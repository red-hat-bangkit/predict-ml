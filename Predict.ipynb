{
  "nbformat": 4,
  "nbformat_minor": 0,
  "metadata": {
    "colab": {
      "name": "Predict.ipynb",
      "provenance": [],
      "collapsed_sections": []
    },
    "kernelspec": {
      "display_name": "Python 3",
      "name": "python3"
    },
    "language_info": {
      "name": "python"
    }
  },
  "cells": [
    {
      "cell_type": "markdown",
      "metadata": {
        "id": "TtmtiGxvprmO"
      },
      "source": [
        "#Flood Prediction"
      ]
    },
    {
      "cell_type": "markdown",
      "metadata": {
        "id": "XD3jayT9pyXq"
      },
      "source": [
        "Import Required Libraries"
      ]
    },
    {
      "cell_type": "code",
      "metadata": {
        "id": "NHTLK7hjlu0o"
      },
      "source": [
        "import numpy as np\n",
        "import pandas as pd\n",
        "from sklearn.linear_model import LinearRegression"
      ],
      "execution_count": null,
      "outputs": []
    },
    {
      "cell_type": "markdown",
      "metadata": {
        "id": "r-cXNQi8T-Ml"
      },
      "source": [
        "# Telemetri Data"
      ]
    },
    {
      "cell_type": "code",
      "metadata": {
        "colab": {
          "base_uri": "https://localhost:8080/",
          "height": 415
        },
        "id": "qbWKQ-VDT_q_",
        "outputId": "3aa8fc90-5cd3-41e1-feff-ef139e38d108"
      },
      "source": [
        "def gsheet_to_csv(url: str):\n",
        "  sheet_url = url\n",
        "  csv = sheet_url.replace('/edit#gid=', '/export?format=csv&gid=')\n",
        "  return csv\n",
        "\n",
        "df_telemetri_rainfall = pd.read_csv(gsheet_to_csv(\"https://docs.google.com/spreadsheets/d/1nI8m27noE1mMiXQXde8jyXD6-qhuMQ2tE-gXxBkuxi4/edit#gid=0\"))\n",
        "df_telemetri_rainfall"
      ],
      "execution_count": null,
      "outputs": [
        {
          "output_type": "execute_result",
          "data": {
            "text/html": [
              "<div>\n",
              "<style scoped>\n",
              "    .dataframe tbody tr th:only-of-type {\n",
              "        vertical-align: middle;\n",
              "    }\n",
              "\n",
              "    .dataframe tbody tr th {\n",
              "        vertical-align: top;\n",
              "    }\n",
              "\n",
              "    .dataframe thead th {\n",
              "        text-align: right;\n",
              "    }\n",
              "</style>\n",
              "<table border=\"1\" class=\"dataframe\">\n",
              "  <thead>\n",
              "    <tr style=\"text-align: right;\">\n",
              "      <th></th>\n",
              "      <th>Location</th>\n",
              "      <th>Date</th>\n",
              "      <th>Time</th>\n",
              "      <th>Rainfall</th>\n",
              "      <th>Status</th>\n",
              "    </tr>\n",
              "  </thead>\n",
              "  <tbody>\n",
              "    <tr>\n",
              "      <th>0</th>\n",
              "      <td>Sumur Batu</td>\n",
              "      <td>15-Jul-20</td>\n",
              "      <td>14:00</td>\n",
              "      <td>0.00 mm</td>\n",
              "      <td>Cerah</td>\n",
              "    </tr>\n",
              "    <tr>\n",
              "      <th>1</th>\n",
              "      <td>Sumur Batu</td>\n",
              "      <td>15-Jul-20</td>\n",
              "      <td>15:00</td>\n",
              "      <td>0.00 mm</td>\n",
              "      <td>Cerah\\</td>\n",
              "    </tr>\n",
              "    <tr>\n",
              "      <th>2</th>\n",
              "      <td>Sumur Batu</td>\n",
              "      <td>16-Jul-20</td>\n",
              "      <td>7:00</td>\n",
              "      <td>0.00 mm</td>\n",
              "      <td>Cerah</td>\n",
              "    </tr>\n",
              "    <tr>\n",
              "      <th>3</th>\n",
              "      <td>Sumur Batu</td>\n",
              "      <td>17-Jul-20</td>\n",
              "      <td>4:00</td>\n",
              "      <td>0.00 mm</td>\n",
              "      <td>Cerah</td>\n",
              "    </tr>\n",
              "    <tr>\n",
              "      <th>4</th>\n",
              "      <td>Sumur Batu</td>\n",
              "      <td>17-Jul-20</td>\n",
              "      <td>6:00</td>\n",
              "      <td>0.00 mm</td>\n",
              "      <td>Cerah</td>\n",
              "    </tr>\n",
              "    <tr>\n",
              "      <th>...</th>\n",
              "      <td>...</td>\n",
              "      <td>...</td>\n",
              "      <td>...</td>\n",
              "      <td>...</td>\n",
              "      <td>...</td>\n",
              "    </tr>\n",
              "    <tr>\n",
              "      <th>182880</th>\n",
              "      <td>Cimanggu</td>\n",
              "      <td>28-Jan-21</td>\n",
              "      <td>3:00</td>\n",
              "      <td>0.00 mm</td>\n",
              "      <td>Cerah</td>\n",
              "    </tr>\n",
              "    <tr>\n",
              "      <th>182881</th>\n",
              "      <td>Cimanggu</td>\n",
              "      <td>28-Jan-21</td>\n",
              "      <td>5:00</td>\n",
              "      <td>0.00 mm</td>\n",
              "      <td>Cerah</td>\n",
              "    </tr>\n",
              "    <tr>\n",
              "      <th>182882</th>\n",
              "      <td>Cimanggu</td>\n",
              "      <td>28-Jan-21</td>\n",
              "      <td>7:00</td>\n",
              "      <td>0.00 mm</td>\n",
              "      <td>Cerah</td>\n",
              "    </tr>\n",
              "    <tr>\n",
              "      <th>182883</th>\n",
              "      <td>Cimanggu</td>\n",
              "      <td>28-Jan-21</td>\n",
              "      <td>8:00</td>\n",
              "      <td>12.00 mm</td>\n",
              "      <td>Lebat</td>\n",
              "    </tr>\n",
              "    <tr>\n",
              "      <th>182884</th>\n",
              "      <td>Cimanggu</td>\n",
              "      <td>28-Jan-21</td>\n",
              "      <td>10:00</td>\n",
              "      <td>0.00 mm</td>\n",
              "      <td>Cerah</td>\n",
              "    </tr>\n",
              "  </tbody>\n",
              "</table>\n",
              "<p>182885 rows × 5 columns</p>\n",
              "</div>"
            ],
            "text/plain": [
              "          Location       Date   Time  Rainfall  Status\n",
              "0       Sumur Batu  15-Jul-20  14:00   0.00 mm   Cerah\n",
              "1       Sumur Batu  15-Jul-20  15:00   0.00 mm  Cerah\\\n",
              "2       Sumur Batu  16-Jul-20   7:00   0.00 mm   Cerah\n",
              "3       Sumur Batu  17-Jul-20   4:00   0.00 mm   Cerah\n",
              "4       Sumur Batu  17-Jul-20   6:00   0.00 mm   Cerah\n",
              "...            ...        ...    ...       ...     ...\n",
              "182880    Cimanggu  28-Jan-21   3:00   0.00 mm   Cerah\n",
              "182881    Cimanggu  28-Jan-21   5:00   0.00 mm   Cerah\n",
              "182882    Cimanggu  28-Jan-21   7:00   0.00 mm   Cerah\n",
              "182883    Cimanggu  28-Jan-21   8:00  12.00 mm   Lebat\n",
              "182884    Cimanggu  28-Jan-21  10:00   0.00 mm   Cerah\n",
              "\n",
              "[182885 rows x 5 columns]"
            ]
          },
          "metadata": {
            "tags": []
          },
          "execution_count": 2
        }
      ]
    },
    {
      "cell_type": "code",
      "metadata": {
        "colab": {
          "base_uri": "https://localhost:8080/",
          "height": 415
        },
        "id": "BP-Ggm-HUKRc",
        "outputId": "1ac9737a-dffc-45cb-a6ee-478525bdec04"
      },
      "source": [
        "df_telemetri_waterlevel = pd.read_csv(gsheet_to_csv(\"https://docs.google.com/spreadsheets/d/1xy16th0oBqQ9kux8XGKmkk6AO1flGq1hj1kYqDLn4YI/edit#gid=0\"))\n",
        "df_telemetri_waterlevel.rename(columns = {'Water Level (cm)': 'water_level', 'Date ':'Date'}, inplace = True)\n",
        "df_telemetri_waterlevel"
      ],
      "execution_count": null,
      "outputs": [
        {
          "output_type": "execute_result",
          "data": {
            "text/html": [
              "<div>\n",
              "<style scoped>\n",
              "    .dataframe tbody tr th:only-of-type {\n",
              "        vertical-align: middle;\n",
              "    }\n",
              "\n",
              "    .dataframe tbody tr th {\n",
              "        vertical-align: top;\n",
              "    }\n",
              "\n",
              "    .dataframe thead th {\n",
              "        text-align: right;\n",
              "    }\n",
              "</style>\n",
              "<table border=\"1\" class=\"dataframe\">\n",
              "  <thead>\n",
              "    <tr style=\"text-align: right;\">\n",
              "      <th></th>\n",
              "      <th>Location</th>\n",
              "      <th>Date</th>\n",
              "      <th>Time</th>\n",
              "      <th>water_level</th>\n",
              "    </tr>\n",
              "  </thead>\n",
              "  <tbody>\n",
              "    <tr>\n",
              "      <th>0</th>\n",
              "      <td>Cileungsi</td>\n",
              "      <td>2-Jun-19</td>\n",
              "      <td>0:00</td>\n",
              "      <td>34 cm</td>\n",
              "    </tr>\n",
              "    <tr>\n",
              "      <th>1</th>\n",
              "      <td>Cileungsi</td>\n",
              "      <td>2-Jun-19</td>\n",
              "      <td>1:00</td>\n",
              "      <td>34 cm</td>\n",
              "    </tr>\n",
              "    <tr>\n",
              "      <th>2</th>\n",
              "      <td>Cileungsi</td>\n",
              "      <td>2-Jun-19</td>\n",
              "      <td>2:00</td>\n",
              "      <td>34 cm</td>\n",
              "    </tr>\n",
              "    <tr>\n",
              "      <th>3</th>\n",
              "      <td>Cileungsi</td>\n",
              "      <td>2-Jun-19</td>\n",
              "      <td>3:00</td>\n",
              "      <td>34 cm</td>\n",
              "    </tr>\n",
              "    <tr>\n",
              "      <th>4</th>\n",
              "      <td>Cileungsi</td>\n",
              "      <td>2-Jun-19</td>\n",
              "      <td>4:00</td>\n",
              "      <td>34 cm</td>\n",
              "    </tr>\n",
              "    <tr>\n",
              "      <th>...</th>\n",
              "      <td>...</td>\n",
              "      <td>...</td>\n",
              "      <td>...</td>\n",
              "      <td>...</td>\n",
              "    </tr>\n",
              "    <tr>\n",
              "      <th>129208</th>\n",
              "      <td>Pondok Kelapa</td>\n",
              "      <td>22 Jan 2021</td>\n",
              "      <td>5:00</td>\n",
              "      <td>-188 cm</td>\n",
              "    </tr>\n",
              "    <tr>\n",
              "      <th>129209</th>\n",
              "      <td>Pondok Kelapa</td>\n",
              "      <td>22 Jan 2021</td>\n",
              "      <td>6:00</td>\n",
              "      <td>-188 cm</td>\n",
              "    </tr>\n",
              "    <tr>\n",
              "      <th>129210</th>\n",
              "      <td>Pondok Kelapa</td>\n",
              "      <td>22 Jan 2021</td>\n",
              "      <td>7:00</td>\n",
              "      <td>-188 cm</td>\n",
              "    </tr>\n",
              "    <tr>\n",
              "      <th>129211</th>\n",
              "      <td>Pondok Kelapa</td>\n",
              "      <td>22 Jan 2021</td>\n",
              "      <td>8:00</td>\n",
              "      <td>-188 cm</td>\n",
              "    </tr>\n",
              "    <tr>\n",
              "      <th>129212</th>\n",
              "      <td>Pondok Kelapa</td>\n",
              "      <td>22 Jan 2021</td>\n",
              "      <td>10:00</td>\n",
              "      <td>-188 cm</td>\n",
              "    </tr>\n",
              "  </tbody>\n",
              "</table>\n",
              "<p>129213 rows × 4 columns</p>\n",
              "</div>"
            ],
            "text/plain": [
              "             Location         Date   Time water_level\n",
              "0           Cileungsi     2-Jun-19   0:00       34 cm\n",
              "1           Cileungsi     2-Jun-19   1:00       34 cm\n",
              "2           Cileungsi     2-Jun-19   2:00       34 cm\n",
              "3           Cileungsi     2-Jun-19   3:00       34 cm\n",
              "4           Cileungsi     2-Jun-19   4:00       34 cm\n",
              "...               ...          ...    ...         ...\n",
              "129208  Pondok Kelapa  22 Jan 2021   5:00     -188 cm\n",
              "129209  Pondok Kelapa  22 Jan 2021   6:00     -188 cm\n",
              "129210  Pondok Kelapa  22 Jan 2021   7:00     -188 cm\n",
              "129211  Pondok Kelapa  22 Jan 2021   8:00     -188 cm\n",
              "129212  Pondok Kelapa  22 Jan 2021  10:00     -188 cm\n",
              "\n",
              "[129213 rows x 4 columns]"
            ]
          },
          "metadata": {
            "tags": []
          },
          "execution_count": 3
        }
      ]
    },
    {
      "cell_type": "code",
      "metadata": {
        "id": "cCbLf_CLXPW6"
      },
      "source": [
        "# Pandas Left Join is Out of Memory\n",
        "# pd.merge(df_telemetri_rainfall, df_telemetri_waterlevel, how=\"left\", on=\"Location\")\n",
        "# Let's try to use sql"
      ],
      "execution_count": null,
      "outputs": []
    },
    {
      "cell_type": "markdown",
      "metadata": {
        "id": "pJHZb_6VrTsA"
      },
      "source": [
        "**Pandas Left Join is Out of Memory**\n",
        "```python\n",
        "pd.merge(df_telemetri_rainfall, df_telemetri_waterlevel, how=\"left\", on=\"Location\")\n",
        "```\n",
        "Let's try to use sql instead"
      ]
    },
    {
      "cell_type": "code",
      "metadata": {
        "id": "aD7VOmz9bgeP"
      },
      "source": [
        "from sqlalchemy import create_engine\n",
        "engine = create_engine('sqlite:///./db.sqlite3', echo=False)"
      ],
      "execution_count": null,
      "outputs": []
    },
    {
      "cell_type": "code",
      "metadata": {
        "id": "ZoaTKIEbhSzU"
      },
      "source": [
        "# Save to sql\n",
        "df_telemetri_waterlevel.to_sql(\"telemetri_waterlevel\", if_exists=\"replace\", con=engine)\n",
        "df_telemetri_rainfall.to_sql(\"telemetri_rainfall\", if_exists=\"replace\", con=engine)"
      ],
      "execution_count": null,
      "outputs": []
    },
    {
      "cell_type": "code",
      "metadata": {
        "colab": {
          "base_uri": "https://localhost:8080/"
        },
        "id": "NmEznk0Kiu11",
        "outputId": "2b58b349-8915-4c76-c87a-0411b57a07fb"
      },
      "source": [
        "# check length\n",
        "print(len(df_telemetri_rainfall))\n",
        "print(len(df_telemetri_waterlevel))"
      ],
      "execution_count": null,
      "outputs": [
        {
          "output_type": "stream",
          "text": [
            "182885\n",
            "129213\n"
          ],
          "name": "stdout"
        }
      ]
    },
    {
      "cell_type": "markdown",
      "metadata": {
        "id": "bUZw5gEjv576"
      },
      "source": [
        "Join operations ini untuk menggabungkan data dengan cara mengambil semua data yang memiliki nilai **water_level** dan **Rainfall** (jika ada label data banjir dari PUPR)\n",
        "```\n",
        "SELECT \n",
        "  tr.Date AS Date,\n",
        "  tr.Time AS Time,\n",
        "  tr.Location AS Location,\n",
        "  tr.Rainfall AS Rainfall,\n",
        "  tr.Status AS RainfallStatus,\n",
        "  tw.water_level AS WaterLevel\n",
        "FROM telemetri_rainfall AS tr\n",
        "LEFT JOIN telemetri_waterlevel AS tw\n",
        "ON tr.Location = tw.Location AND tr.Date = tw.Date AND tr.Time = tw.Time\n",
        "\n",
        "UNION\n",
        "\n",
        "SELECT \n",
        "  tw.Date AS Date,\n",
        "  tw.Time AS Time,\n",
        "  tw.Location AS Location,\n",
        "  tr.Rainfall AS Rainfall,\n",
        "  tr.Status AS RainfallStatus,\n",
        "  tw.water_level AS WaterLevel\n",
        "FROM telemetri_waterlevel AS tw\n",
        "LEFT JOIN telemetri_rainfall AS tr\n",
        "ON tr.Location = tw.Location AND tr.Date = tw.Date AND tr.Time = tw.Time\n",
        "```\n",
        "Namun karena menggunakan asumsi bahwa jika **RainfallStatus** == lebat  sebagai label banjir maka digunakan join ini\n",
        "```\n",
        "SELECT \n",
        "  tr.Date AS Date,\n",
        "  tr.Time AS Time,\n",
        "  tr.Location AS Location,\n",
        "  tr.Rainfall AS Rainfall,\n",
        "  tr.Status AS RainfallStatus,\n",
        "  tw.water_level AS WaterLevel\n",
        "FROM telemetri_rainfall AS tr\n",
        "LEFT JOIN telemetri_waterlevel AS tw\n",
        "ON tr.Location = tw.Location AND tr.Date = tw.Date AND tr.Time = tw.Time\n",
        "```"
      ]
    },
    {
      "cell_type": "code",
      "metadata": {
        "colab": {
          "base_uri": "https://localhost:8080/",
          "height": 415
        },
        "id": "JO2iI7Vlhms4",
        "outputId": "9fcaa3f9-3482-4a8b-9b03-494a814e805a"
      },
      "source": [
        "query = engine.execute('''\n",
        "SELECT \n",
        "  tr.Date AS Date,\n",
        "  tr.Time AS Time,\n",
        "  tr.Location AS Location,\n",
        "  tr.Rainfall AS Rainfall,\n",
        "  tr.Status AS RainfallStatus,\n",
        "  tw.water_level AS WaterLevel\n",
        "FROM telemetri_rainfall AS tr\n",
        "LEFT JOIN telemetri_waterlevel AS tw\n",
        "ON tr.Location = tw.Location AND tr.Date = tw.Date AND tr.Time = tw.Time\n",
        "''')\n",
        "df_tmrain_tmwater = pd.DataFrame(query.fetchall())\n",
        "df_tmrain_tmwater.columns = query.keys()\n",
        "df_tmrain_tmwater"
      ],
      "execution_count": null,
      "outputs": [
        {
          "output_type": "execute_result",
          "data": {
            "text/html": [
              "<div>\n",
              "<style scoped>\n",
              "    .dataframe tbody tr th:only-of-type {\n",
              "        vertical-align: middle;\n",
              "    }\n",
              "\n",
              "    .dataframe tbody tr th {\n",
              "        vertical-align: top;\n",
              "    }\n",
              "\n",
              "    .dataframe thead th {\n",
              "        text-align: right;\n",
              "    }\n",
              "</style>\n",
              "<table border=\"1\" class=\"dataframe\">\n",
              "  <thead>\n",
              "    <tr style=\"text-align: right;\">\n",
              "      <th></th>\n",
              "      <th>Date</th>\n",
              "      <th>Time</th>\n",
              "      <th>Location</th>\n",
              "      <th>Rainfall</th>\n",
              "      <th>RainfallStatus</th>\n",
              "      <th>WaterLevel</th>\n",
              "    </tr>\n",
              "  </thead>\n",
              "  <tbody>\n",
              "    <tr>\n",
              "      <th>0</th>\n",
              "      <td>15-Jul-20</td>\n",
              "      <td>14:00</td>\n",
              "      <td>Sumur Batu</td>\n",
              "      <td>0.00 mm</td>\n",
              "      <td>Cerah</td>\n",
              "      <td>None</td>\n",
              "    </tr>\n",
              "    <tr>\n",
              "      <th>1</th>\n",
              "      <td>15-Jul-20</td>\n",
              "      <td>15:00</td>\n",
              "      <td>Sumur Batu</td>\n",
              "      <td>0.00 mm</td>\n",
              "      <td>Cerah\\</td>\n",
              "      <td>None</td>\n",
              "    </tr>\n",
              "    <tr>\n",
              "      <th>2</th>\n",
              "      <td>16-Jul-20</td>\n",
              "      <td>7:00</td>\n",
              "      <td>Sumur Batu</td>\n",
              "      <td>0.00 mm</td>\n",
              "      <td>Cerah</td>\n",
              "      <td>None</td>\n",
              "    </tr>\n",
              "    <tr>\n",
              "      <th>3</th>\n",
              "      <td>17-Jul-20</td>\n",
              "      <td>4:00</td>\n",
              "      <td>Sumur Batu</td>\n",
              "      <td>0.00 mm</td>\n",
              "      <td>Cerah</td>\n",
              "      <td>None</td>\n",
              "    </tr>\n",
              "    <tr>\n",
              "      <th>4</th>\n",
              "      <td>17-Jul-20</td>\n",
              "      <td>6:00</td>\n",
              "      <td>Sumur Batu</td>\n",
              "      <td>0.00 mm</td>\n",
              "      <td>Cerah</td>\n",
              "      <td>None</td>\n",
              "    </tr>\n",
              "    <tr>\n",
              "      <th>...</th>\n",
              "      <td>...</td>\n",
              "      <td>...</td>\n",
              "      <td>...</td>\n",
              "      <td>...</td>\n",
              "      <td>...</td>\n",
              "      <td>...</td>\n",
              "    </tr>\n",
              "    <tr>\n",
              "      <th>182880</th>\n",
              "      <td>28-Jan-21</td>\n",
              "      <td>3:00</td>\n",
              "      <td>Cimanggu</td>\n",
              "      <td>0.00 mm</td>\n",
              "      <td>Cerah</td>\n",
              "      <td>None</td>\n",
              "    </tr>\n",
              "    <tr>\n",
              "      <th>182881</th>\n",
              "      <td>28-Jan-21</td>\n",
              "      <td>5:00</td>\n",
              "      <td>Cimanggu</td>\n",
              "      <td>0.00 mm</td>\n",
              "      <td>Cerah</td>\n",
              "      <td>None</td>\n",
              "    </tr>\n",
              "    <tr>\n",
              "      <th>182882</th>\n",
              "      <td>28-Jan-21</td>\n",
              "      <td>7:00</td>\n",
              "      <td>Cimanggu</td>\n",
              "      <td>0.00 mm</td>\n",
              "      <td>Cerah</td>\n",
              "      <td>None</td>\n",
              "    </tr>\n",
              "    <tr>\n",
              "      <th>182883</th>\n",
              "      <td>28-Jan-21</td>\n",
              "      <td>8:00</td>\n",
              "      <td>Cimanggu</td>\n",
              "      <td>12.00 mm</td>\n",
              "      <td>Lebat</td>\n",
              "      <td>None</td>\n",
              "    </tr>\n",
              "    <tr>\n",
              "      <th>182884</th>\n",
              "      <td>28-Jan-21</td>\n",
              "      <td>10:00</td>\n",
              "      <td>Cimanggu</td>\n",
              "      <td>0.00 mm</td>\n",
              "      <td>Cerah</td>\n",
              "      <td>None</td>\n",
              "    </tr>\n",
              "  </tbody>\n",
              "</table>\n",
              "<p>182885 rows × 6 columns</p>\n",
              "</div>"
            ],
            "text/plain": [
              "             Date   Time    Location  Rainfall RainfallStatus WaterLevel\n",
              "0       15-Jul-20  14:00  Sumur Batu   0.00 mm          Cerah       None\n",
              "1       15-Jul-20  15:00  Sumur Batu   0.00 mm         Cerah\\       None\n",
              "2       16-Jul-20   7:00  Sumur Batu   0.00 mm          Cerah       None\n",
              "3       17-Jul-20   4:00  Sumur Batu   0.00 mm          Cerah       None\n",
              "4       17-Jul-20   6:00  Sumur Batu   0.00 mm          Cerah       None\n",
              "...           ...    ...         ...       ...            ...        ...\n",
              "182880  28-Jan-21   3:00    Cimanggu   0.00 mm          Cerah       None\n",
              "182881  28-Jan-21   5:00    Cimanggu   0.00 mm          Cerah       None\n",
              "182882  28-Jan-21   7:00    Cimanggu   0.00 mm          Cerah       None\n",
              "182883  28-Jan-21   8:00    Cimanggu  12.00 mm          Lebat       None\n",
              "182884  28-Jan-21  10:00    Cimanggu   0.00 mm          Cerah       None\n",
              "\n",
              "[182885 rows x 6 columns]"
            ]
          },
          "metadata": {
            "tags": []
          },
          "execution_count": 7
        }
      ]
    },
    {
      "cell_type": "code",
      "metadata": {
        "colab": {
          "base_uri": "https://localhost:8080/",
          "height": 171
        },
        "id": "d7rxcNtSiPfn",
        "outputId": "d92b5165-67c0-4623-f6cb-94cd5ea4463c"
      },
      "source": [
        "df_tmrain_tmwater.describe()"
      ],
      "execution_count": null,
      "outputs": [
        {
          "output_type": "execute_result",
          "data": {
            "text/html": [
              "<div>\n",
              "<style scoped>\n",
              "    .dataframe tbody tr th:only-of-type {\n",
              "        vertical-align: middle;\n",
              "    }\n",
              "\n",
              "    .dataframe tbody tr th {\n",
              "        vertical-align: top;\n",
              "    }\n",
              "\n",
              "    .dataframe thead th {\n",
              "        text-align: right;\n",
              "    }\n",
              "</style>\n",
              "<table border=\"1\" class=\"dataframe\">\n",
              "  <thead>\n",
              "    <tr style=\"text-align: right;\">\n",
              "      <th></th>\n",
              "      <th>Date</th>\n",
              "      <th>Time</th>\n",
              "      <th>Location</th>\n",
              "      <th>Rainfall</th>\n",
              "      <th>RainfallStatus</th>\n",
              "      <th>WaterLevel</th>\n",
              "    </tr>\n",
              "  </thead>\n",
              "  <tbody>\n",
              "    <tr>\n",
              "      <th>count</th>\n",
              "      <td>182885</td>\n",
              "      <td>182882</td>\n",
              "      <td>182885</td>\n",
              "      <td>182882</td>\n",
              "      <td>182882</td>\n",
              "      <td>9368</td>\n",
              "    </tr>\n",
              "    <tr>\n",
              "      <th>unique</th>\n",
              "      <td>1221</td>\n",
              "      <td>24</td>\n",
              "      <td>19</td>\n",
              "      <td>297</td>\n",
              "      <td>9</td>\n",
              "      <td>20</td>\n",
              "    </tr>\n",
              "    <tr>\n",
              "      <th>top</th>\n",
              "      <td>11-Sep-20</td>\n",
              "      <td>12:00</td>\n",
              "      <td>Bendungan Gintung</td>\n",
              "      <td>0.00 mm</td>\n",
              "      <td>Cerah</td>\n",
              "      <td>9,690 cm</td>\n",
              "    </tr>\n",
              "    <tr>\n",
              "      <th>freq</th>\n",
              "      <td>384</td>\n",
              "      <td>7776</td>\n",
              "      <td>19218</td>\n",
              "      <td>173749</td>\n",
              "      <td>173669</td>\n",
              "      <td>2558</td>\n",
              "    </tr>\n",
              "  </tbody>\n",
              "</table>\n",
              "</div>"
            ],
            "text/plain": [
              "             Date    Time           Location Rainfall RainfallStatus WaterLevel\n",
              "count      182885  182882             182885   182882         182882       9368\n",
              "unique       1221      24                 19      297              9         20\n",
              "top     11-Sep-20   12:00  Bendungan Gintung  0.00 mm          Cerah   9,690 cm\n",
              "freq          384    7776              19218   173749         173669       2558"
            ]
          },
          "metadata": {
            "tags": []
          },
          "execution_count": 8
        }
      ]
    },
    {
      "cell_type": "code",
      "metadata": {
        "colab": {
          "base_uri": "https://localhost:8080/",
          "height": 415
        },
        "id": "_B-FgjMcxHtS",
        "outputId": "bcbf2b4b-373a-42dc-f196-0f052d1cd079"
      },
      "source": [
        "# Asumsi Labeling\n",
        "df_tmrain_tmwater['Banjir'] = df_tmrain_tmwater.apply(lambda row: 1 if row['RainfallStatus'] != None and row['RainfallStatus'].lower() == \"lebat\" else 0, axis=1)\n",
        "df_tmrain_tmwater"
      ],
      "execution_count": null,
      "outputs": [
        {
          "output_type": "execute_result",
          "data": {
            "text/html": [
              "<div>\n",
              "<style scoped>\n",
              "    .dataframe tbody tr th:only-of-type {\n",
              "        vertical-align: middle;\n",
              "    }\n",
              "\n",
              "    .dataframe tbody tr th {\n",
              "        vertical-align: top;\n",
              "    }\n",
              "\n",
              "    .dataframe thead th {\n",
              "        text-align: right;\n",
              "    }\n",
              "</style>\n",
              "<table border=\"1\" class=\"dataframe\">\n",
              "  <thead>\n",
              "    <tr style=\"text-align: right;\">\n",
              "      <th></th>\n",
              "      <th>Date</th>\n",
              "      <th>Time</th>\n",
              "      <th>Location</th>\n",
              "      <th>Rainfall</th>\n",
              "      <th>RainfallStatus</th>\n",
              "      <th>WaterLevel</th>\n",
              "      <th>Banjir</th>\n",
              "    </tr>\n",
              "  </thead>\n",
              "  <tbody>\n",
              "    <tr>\n",
              "      <th>0</th>\n",
              "      <td>15-Jul-20</td>\n",
              "      <td>14:00</td>\n",
              "      <td>Sumur Batu</td>\n",
              "      <td>0.00 mm</td>\n",
              "      <td>Cerah</td>\n",
              "      <td>None</td>\n",
              "      <td>0</td>\n",
              "    </tr>\n",
              "    <tr>\n",
              "      <th>1</th>\n",
              "      <td>15-Jul-20</td>\n",
              "      <td>15:00</td>\n",
              "      <td>Sumur Batu</td>\n",
              "      <td>0.00 mm</td>\n",
              "      <td>Cerah\\</td>\n",
              "      <td>None</td>\n",
              "      <td>0</td>\n",
              "    </tr>\n",
              "    <tr>\n",
              "      <th>2</th>\n",
              "      <td>16-Jul-20</td>\n",
              "      <td>7:00</td>\n",
              "      <td>Sumur Batu</td>\n",
              "      <td>0.00 mm</td>\n",
              "      <td>Cerah</td>\n",
              "      <td>None</td>\n",
              "      <td>0</td>\n",
              "    </tr>\n",
              "    <tr>\n",
              "      <th>3</th>\n",
              "      <td>17-Jul-20</td>\n",
              "      <td>4:00</td>\n",
              "      <td>Sumur Batu</td>\n",
              "      <td>0.00 mm</td>\n",
              "      <td>Cerah</td>\n",
              "      <td>None</td>\n",
              "      <td>0</td>\n",
              "    </tr>\n",
              "    <tr>\n",
              "      <th>4</th>\n",
              "      <td>17-Jul-20</td>\n",
              "      <td>6:00</td>\n",
              "      <td>Sumur Batu</td>\n",
              "      <td>0.00 mm</td>\n",
              "      <td>Cerah</td>\n",
              "      <td>None</td>\n",
              "      <td>0</td>\n",
              "    </tr>\n",
              "    <tr>\n",
              "      <th>...</th>\n",
              "      <td>...</td>\n",
              "      <td>...</td>\n",
              "      <td>...</td>\n",
              "      <td>...</td>\n",
              "      <td>...</td>\n",
              "      <td>...</td>\n",
              "      <td>...</td>\n",
              "    </tr>\n",
              "    <tr>\n",
              "      <th>182880</th>\n",
              "      <td>28-Jan-21</td>\n",
              "      <td>3:00</td>\n",
              "      <td>Cimanggu</td>\n",
              "      <td>0.00 mm</td>\n",
              "      <td>Cerah</td>\n",
              "      <td>None</td>\n",
              "      <td>0</td>\n",
              "    </tr>\n",
              "    <tr>\n",
              "      <th>182881</th>\n",
              "      <td>28-Jan-21</td>\n",
              "      <td>5:00</td>\n",
              "      <td>Cimanggu</td>\n",
              "      <td>0.00 mm</td>\n",
              "      <td>Cerah</td>\n",
              "      <td>None</td>\n",
              "      <td>0</td>\n",
              "    </tr>\n",
              "    <tr>\n",
              "      <th>182882</th>\n",
              "      <td>28-Jan-21</td>\n",
              "      <td>7:00</td>\n",
              "      <td>Cimanggu</td>\n",
              "      <td>0.00 mm</td>\n",
              "      <td>Cerah</td>\n",
              "      <td>None</td>\n",
              "      <td>0</td>\n",
              "    </tr>\n",
              "    <tr>\n",
              "      <th>182883</th>\n",
              "      <td>28-Jan-21</td>\n",
              "      <td>8:00</td>\n",
              "      <td>Cimanggu</td>\n",
              "      <td>12.00 mm</td>\n",
              "      <td>Lebat</td>\n",
              "      <td>None</td>\n",
              "      <td>1</td>\n",
              "    </tr>\n",
              "    <tr>\n",
              "      <th>182884</th>\n",
              "      <td>28-Jan-21</td>\n",
              "      <td>10:00</td>\n",
              "      <td>Cimanggu</td>\n",
              "      <td>0.00 mm</td>\n",
              "      <td>Cerah</td>\n",
              "      <td>None</td>\n",
              "      <td>0</td>\n",
              "    </tr>\n",
              "  </tbody>\n",
              "</table>\n",
              "<p>182885 rows × 7 columns</p>\n",
              "</div>"
            ],
            "text/plain": [
              "             Date   Time    Location  ... RainfallStatus WaterLevel Banjir\n",
              "0       15-Jul-20  14:00  Sumur Batu  ...          Cerah       None      0\n",
              "1       15-Jul-20  15:00  Sumur Batu  ...         Cerah\\       None      0\n",
              "2       16-Jul-20   7:00  Sumur Batu  ...          Cerah       None      0\n",
              "3       17-Jul-20   4:00  Sumur Batu  ...          Cerah       None      0\n",
              "4       17-Jul-20   6:00  Sumur Batu  ...          Cerah       None      0\n",
              "...           ...    ...         ...  ...            ...        ...    ...\n",
              "182880  28-Jan-21   3:00    Cimanggu  ...          Cerah       None      0\n",
              "182881  28-Jan-21   5:00    Cimanggu  ...          Cerah       None      0\n",
              "182882  28-Jan-21   7:00    Cimanggu  ...          Cerah       None      0\n",
              "182883  28-Jan-21   8:00    Cimanggu  ...          Lebat       None      1\n",
              "182884  28-Jan-21  10:00    Cimanggu  ...          Cerah       None      0\n",
              "\n",
              "[182885 rows x 7 columns]"
            ]
          },
          "metadata": {
            "tags": []
          },
          "execution_count": 9
        }
      ]
    },
    {
      "cell_type": "code",
      "metadata": {
        "colab": {
          "base_uri": "https://localhost:8080/"
        },
        "id": "eVAj2KgAydCv",
        "outputId": "ed6136b0-9821-4b93-c16c-ba55f956b68e"
      },
      "source": [
        "# Berapa banjir ya?\n",
        "sum(df_tmrain_tmwater['Banjir'])"
      ],
      "execution_count": null,
      "outputs": [
        {
          "output_type": "execute_result",
          "data": {
            "text/plain": [
              "1036"
            ]
          },
          "metadata": {
            "tags": []
          },
          "execution_count": 10
        }
      ]
    },
    {
      "cell_type": "markdown",
      "metadata": {
        "id": "jeQPQP0U3Sfy"
      },
      "source": [
        "COBA TRAINING"
      ]
    },
    {
      "cell_type": "code",
      "metadata": {
        "colab": {
          "base_uri": "https://localhost:8080/",
          "height": 415
        },
        "id": "VrMdxaY73H8o",
        "outputId": "a4a7c8a0-7282-4fa7-be20-3c73c22a8f36"
      },
      "source": [
        "df_tmrain_tmwater"
      ],
      "execution_count": null,
      "outputs": [
        {
          "output_type": "execute_result",
          "data": {
            "text/html": [
              "<div>\n",
              "<style scoped>\n",
              "    .dataframe tbody tr th:only-of-type {\n",
              "        vertical-align: middle;\n",
              "    }\n",
              "\n",
              "    .dataframe tbody tr th {\n",
              "        vertical-align: top;\n",
              "    }\n",
              "\n",
              "    .dataframe thead th {\n",
              "        text-align: right;\n",
              "    }\n",
              "</style>\n",
              "<table border=\"1\" class=\"dataframe\">\n",
              "  <thead>\n",
              "    <tr style=\"text-align: right;\">\n",
              "      <th></th>\n",
              "      <th>Date</th>\n",
              "      <th>Time</th>\n",
              "      <th>Location</th>\n",
              "      <th>Rainfall</th>\n",
              "      <th>RainfallStatus</th>\n",
              "      <th>WaterLevel</th>\n",
              "      <th>Banjir</th>\n",
              "    </tr>\n",
              "  </thead>\n",
              "  <tbody>\n",
              "    <tr>\n",
              "      <th>0</th>\n",
              "      <td>15-Jul-20</td>\n",
              "      <td>14:00</td>\n",
              "      <td>Sumur Batu</td>\n",
              "      <td>0.00 mm</td>\n",
              "      <td>Cerah</td>\n",
              "      <td>None</td>\n",
              "      <td>0</td>\n",
              "    </tr>\n",
              "    <tr>\n",
              "      <th>1</th>\n",
              "      <td>15-Jul-20</td>\n",
              "      <td>15:00</td>\n",
              "      <td>Sumur Batu</td>\n",
              "      <td>0.00 mm</td>\n",
              "      <td>Cerah\\</td>\n",
              "      <td>None</td>\n",
              "      <td>0</td>\n",
              "    </tr>\n",
              "    <tr>\n",
              "      <th>2</th>\n",
              "      <td>16-Jul-20</td>\n",
              "      <td>7:00</td>\n",
              "      <td>Sumur Batu</td>\n",
              "      <td>0.00 mm</td>\n",
              "      <td>Cerah</td>\n",
              "      <td>None</td>\n",
              "      <td>0</td>\n",
              "    </tr>\n",
              "    <tr>\n",
              "      <th>3</th>\n",
              "      <td>17-Jul-20</td>\n",
              "      <td>4:00</td>\n",
              "      <td>Sumur Batu</td>\n",
              "      <td>0.00 mm</td>\n",
              "      <td>Cerah</td>\n",
              "      <td>None</td>\n",
              "      <td>0</td>\n",
              "    </tr>\n",
              "    <tr>\n",
              "      <th>4</th>\n",
              "      <td>17-Jul-20</td>\n",
              "      <td>6:00</td>\n",
              "      <td>Sumur Batu</td>\n",
              "      <td>0.00 mm</td>\n",
              "      <td>Cerah</td>\n",
              "      <td>None</td>\n",
              "      <td>0</td>\n",
              "    </tr>\n",
              "    <tr>\n",
              "      <th>...</th>\n",
              "      <td>...</td>\n",
              "      <td>...</td>\n",
              "      <td>...</td>\n",
              "      <td>...</td>\n",
              "      <td>...</td>\n",
              "      <td>...</td>\n",
              "      <td>...</td>\n",
              "    </tr>\n",
              "    <tr>\n",
              "      <th>182880</th>\n",
              "      <td>28-Jan-21</td>\n",
              "      <td>3:00</td>\n",
              "      <td>Cimanggu</td>\n",
              "      <td>0.00 mm</td>\n",
              "      <td>Cerah</td>\n",
              "      <td>None</td>\n",
              "      <td>0</td>\n",
              "    </tr>\n",
              "    <tr>\n",
              "      <th>182881</th>\n",
              "      <td>28-Jan-21</td>\n",
              "      <td>5:00</td>\n",
              "      <td>Cimanggu</td>\n",
              "      <td>0.00 mm</td>\n",
              "      <td>Cerah</td>\n",
              "      <td>None</td>\n",
              "      <td>0</td>\n",
              "    </tr>\n",
              "    <tr>\n",
              "      <th>182882</th>\n",
              "      <td>28-Jan-21</td>\n",
              "      <td>7:00</td>\n",
              "      <td>Cimanggu</td>\n",
              "      <td>0.00 mm</td>\n",
              "      <td>Cerah</td>\n",
              "      <td>None</td>\n",
              "      <td>0</td>\n",
              "    </tr>\n",
              "    <tr>\n",
              "      <th>182883</th>\n",
              "      <td>28-Jan-21</td>\n",
              "      <td>8:00</td>\n",
              "      <td>Cimanggu</td>\n",
              "      <td>12.00 mm</td>\n",
              "      <td>Lebat</td>\n",
              "      <td>None</td>\n",
              "      <td>1</td>\n",
              "    </tr>\n",
              "    <tr>\n",
              "      <th>182884</th>\n",
              "      <td>28-Jan-21</td>\n",
              "      <td>10:00</td>\n",
              "      <td>Cimanggu</td>\n",
              "      <td>0.00 mm</td>\n",
              "      <td>Cerah</td>\n",
              "      <td>None</td>\n",
              "      <td>0</td>\n",
              "    </tr>\n",
              "  </tbody>\n",
              "</table>\n",
              "<p>182885 rows × 7 columns</p>\n",
              "</div>"
            ],
            "text/plain": [
              "             Date   Time    Location  ... RainfallStatus WaterLevel Banjir\n",
              "0       15-Jul-20  14:00  Sumur Batu  ...          Cerah       None      0\n",
              "1       15-Jul-20  15:00  Sumur Batu  ...         Cerah\\       None      0\n",
              "2       16-Jul-20   7:00  Sumur Batu  ...          Cerah       None      0\n",
              "3       17-Jul-20   4:00  Sumur Batu  ...          Cerah       None      0\n",
              "4       17-Jul-20   6:00  Sumur Batu  ...          Cerah       None      0\n",
              "...           ...    ...         ...  ...            ...        ...    ...\n",
              "182880  28-Jan-21   3:00    Cimanggu  ...          Cerah       None      0\n",
              "182881  28-Jan-21   5:00    Cimanggu  ...          Cerah       None      0\n",
              "182882  28-Jan-21   7:00    Cimanggu  ...          Cerah       None      0\n",
              "182883  28-Jan-21   8:00    Cimanggu  ...          Lebat       None      1\n",
              "182884  28-Jan-21  10:00    Cimanggu  ...          Cerah       None      0\n",
              "\n",
              "[182885 rows x 7 columns]"
            ]
          },
          "metadata": {
            "tags": []
          },
          "execution_count": 11
        }
      ]
    },
    {
      "cell_type": "markdown",
      "metadata": {
        "id": "CNBX7W8PeCxb"
      },
      "source": [
        "Number of Missing Value "
      ]
    },
    {
      "cell_type": "code",
      "metadata": {
        "colab": {
          "base_uri": "https://localhost:8080/"
        },
        "id": "DJRVK3N6dquS",
        "outputId": "ba6b8b63-b348-4c39-8f16-5c9294a44837"
      },
      "source": [
        "df_tmrain_tmwater.isnull().sum() "
      ],
      "execution_count": null,
      "outputs": [
        {
          "output_type": "execute_result",
          "data": {
            "text/plain": [
              "Date                   0\n",
              "Time                   3\n",
              "Location               0\n",
              "Rainfall               3\n",
              "RainfallStatus         3\n",
              "WaterLevel        173517\n",
              "Banjir                 0\n",
              "dtype: int64"
            ]
          },
          "metadata": {
            "tags": []
          },
          "execution_count": 25
        }
      ]
    },
    {
      "cell_type": "markdown",
      "metadata": {
        "id": "BDg7Z1Jgei5I"
      },
      "source": [
        "Analyze Dataset"
      ]
    },
    {
      "cell_type": "code",
      "metadata": {
        "colab": {
          "base_uri": "https://localhost:8080/",
          "height": 294
        },
        "id": "7WHbKbtqeqye",
        "outputId": "21145585-4318-41a4-af18-6fedf4e16255"
      },
      "source": [
        "df_tmrain_tmwater.describe()"
      ],
      "execution_count": null,
      "outputs": [
        {
          "output_type": "execute_result",
          "data": {
            "text/html": [
              "<div>\n",
              "<style scoped>\n",
              "    .dataframe tbody tr th:only-of-type {\n",
              "        vertical-align: middle;\n",
              "    }\n",
              "\n",
              "    .dataframe tbody tr th {\n",
              "        vertical-align: top;\n",
              "    }\n",
              "\n",
              "    .dataframe thead th {\n",
              "        text-align: right;\n",
              "    }\n",
              "</style>\n",
              "<table border=\"1\" class=\"dataframe\">\n",
              "  <thead>\n",
              "    <tr style=\"text-align: right;\">\n",
              "      <th></th>\n",
              "      <th>Banjir</th>\n",
              "    </tr>\n",
              "  </thead>\n",
              "  <tbody>\n",
              "    <tr>\n",
              "      <th>count</th>\n",
              "      <td>182885.000000</td>\n",
              "    </tr>\n",
              "    <tr>\n",
              "      <th>mean</th>\n",
              "      <td>0.005665</td>\n",
              "    </tr>\n",
              "    <tr>\n",
              "      <th>std</th>\n",
              "      <td>0.075051</td>\n",
              "    </tr>\n",
              "    <tr>\n",
              "      <th>min</th>\n",
              "      <td>0.000000</td>\n",
              "    </tr>\n",
              "    <tr>\n",
              "      <th>25%</th>\n",
              "      <td>0.000000</td>\n",
              "    </tr>\n",
              "    <tr>\n",
              "      <th>50%</th>\n",
              "      <td>0.000000</td>\n",
              "    </tr>\n",
              "    <tr>\n",
              "      <th>75%</th>\n",
              "      <td>0.000000</td>\n",
              "    </tr>\n",
              "    <tr>\n",
              "      <th>max</th>\n",
              "      <td>1.000000</td>\n",
              "    </tr>\n",
              "  </tbody>\n",
              "</table>\n",
              "</div>"
            ],
            "text/plain": [
              "              Banjir\n",
              "count  182885.000000\n",
              "mean        0.005665\n",
              "std         0.075051\n",
              "min         0.000000\n",
              "25%         0.000000\n",
              "50%         0.000000\n",
              "75%         0.000000\n",
              "max         1.000000"
            ]
          },
          "metadata": {
            "tags": []
          },
          "execution_count": 27
        }
      ]
    },
    {
      "cell_type": "code",
      "metadata": {
        "colab": {
          "base_uri": "https://localhost:8080/",
          "height": 79
        },
        "id": "5zEAz1cRfFwA",
        "outputId": "5a7540ed-a5ef-42ff-a461-e61f7ce41525"
      },
      "source": [
        "df_tmrain_tmwater.cov()"
      ],
      "execution_count": null,
      "outputs": [
        {
          "output_type": "execute_result",
          "data": {
            "text/html": [
              "<div>\n",
              "<style scoped>\n",
              "    .dataframe tbody tr th:only-of-type {\n",
              "        vertical-align: middle;\n",
              "    }\n",
              "\n",
              "    .dataframe tbody tr th {\n",
              "        vertical-align: top;\n",
              "    }\n",
              "\n",
              "    .dataframe thead th {\n",
              "        text-align: right;\n",
              "    }\n",
              "</style>\n",
              "<table border=\"1\" class=\"dataframe\">\n",
              "  <thead>\n",
              "    <tr style=\"text-align: right;\">\n",
              "      <th></th>\n",
              "      <th>Banjir</th>\n",
              "    </tr>\n",
              "  </thead>\n",
              "  <tbody>\n",
              "    <tr>\n",
              "      <th>Banjir</th>\n",
              "      <td>0.005633</td>\n",
              "    </tr>\n",
              "  </tbody>\n",
              "</table>\n",
              "</div>"
            ],
            "text/plain": [
              "          Banjir\n",
              "Banjir  0.005633"
            ]
          },
          "metadata": {
            "tags": []
          },
          "execution_count": 31
        }
      ]
    },
    {
      "cell_type": "code",
      "metadata": {
        "colab": {
          "base_uri": "https://localhost:8080/",
          "height": 79
        },
        "id": "VttT0zdofVM9",
        "outputId": "2ae12a84-8595-4483-b2c5-65afb2e73e27"
      },
      "source": [
        "df_tmrain_tmwater.corr()"
      ],
      "execution_count": null,
      "outputs": [
        {
          "output_type": "execute_result",
          "data": {
            "text/html": [
              "<div>\n",
              "<style scoped>\n",
              "    .dataframe tbody tr th:only-of-type {\n",
              "        vertical-align: middle;\n",
              "    }\n",
              "\n",
              "    .dataframe tbody tr th {\n",
              "        vertical-align: top;\n",
              "    }\n",
              "\n",
              "    .dataframe thead th {\n",
              "        text-align: right;\n",
              "    }\n",
              "</style>\n",
              "<table border=\"1\" class=\"dataframe\">\n",
              "  <thead>\n",
              "    <tr style=\"text-align: right;\">\n",
              "      <th></th>\n",
              "      <th>Banjir</th>\n",
              "    </tr>\n",
              "  </thead>\n",
              "  <tbody>\n",
              "    <tr>\n",
              "      <th>Banjir</th>\n",
              "      <td>1.0</td>\n",
              "    </tr>\n",
              "  </tbody>\n",
              "</table>\n",
              "</div>"
            ],
            "text/plain": [
              "        Banjir\n",
              "Banjir     1.0"
            ]
          },
          "metadata": {
            "tags": []
          },
          "execution_count": 32
        }
      ]
    },
    {
      "cell_type": "code",
      "metadata": {
        "colab": {
          "base_uri": "https://localhost:8080/"
        },
        "id": "uLsiHESC3MMi",
        "outputId": "a1d5ace8-a9b8-4420-825a-9ccc32bd68e5"
      },
      "source": [
        "df_tmrain_tmwater.columns\n"
      ],
      "execution_count": null,
      "outputs": [
        {
          "output_type": "execute_result",
          "data": {
            "text/plain": [
              "Index(['Date', 'Time', 'Location', 'Rainfall', 'RainfallStatus', 'WaterLevel',\n",
              "       'Banjir'],\n",
              "      dtype='object')"
            ]
          },
          "metadata": {
            "tags": []
          },
          "execution_count": 45
        }
      ]
    },
    {
      "cell_type": "code",
      "metadata": {
        "colab": {
          "base_uri": "https://localhost:8080/"
        },
        "id": "rDD3v0y-6CZ-",
        "outputId": "cac585f9-33dc-4fdf-d150-89d868073b1e"
      },
      "source": [
        "df_tmrain_tmwater.index"
      ],
      "execution_count": null,
      "outputs": [
        {
          "output_type": "execute_result",
          "data": {
            "text/plain": [
              "RangeIndex(start=0, stop=182885, step=1)"
            ]
          },
          "metadata": {
            "tags": []
          },
          "execution_count": 46
        }
      ]
    },
    {
      "cell_type": "code",
      "metadata": {
        "colab": {
          "base_uri": "https://localhost:8080/"
        },
        "id": "j4TQPqmN6OTG",
        "outputId": "9d176674-ea07-482f-9f7e-160df3c1a17a"
      },
      "source": [
        "df_tmrain_tmwater.values"
      ],
      "execution_count": null,
      "outputs": [
        {
          "output_type": "execute_result",
          "data": {
            "text/plain": [
              "array([['15-Jul-20', '14:00', 'Sumur Batu', ..., 'Cerah', None, 0],\n",
              "       ['15-Jul-20', '15:00', 'Sumur Batu', ..., 'Cerah\\\\', None, 0],\n",
              "       ['16-Jul-20', '7:00', 'Sumur Batu', ..., 'Cerah', None, 0],\n",
              "       ...,\n",
              "       ['28-Jan-21', '7:00', 'Cimanggu', ..., 'Cerah', None, 0],\n",
              "       ['28-Jan-21', '8:00', 'Cimanggu', ..., 'Lebat', None, 1],\n",
              "       ['28-Jan-21', '10:00', 'Cimanggu', ..., 'Cerah', None, 0]],\n",
              "      dtype=object)"
            ]
          },
          "metadata": {
            "tags": []
          },
          "execution_count": 47
        }
      ]
    },
    {
      "cell_type": "code",
      "metadata": {
        "colab": {
          "base_uri": "https://localhost:8080/"
        },
        "id": "5lAzkVVe7M0q",
        "outputId": "d9dfd299-3dde-4598-feb7-4e4c5530431e"
      },
      "source": [
        "type(df_tmrain_tmwater)"
      ],
      "execution_count": null,
      "outputs": [
        {
          "output_type": "execute_result",
          "data": {
            "text/plain": [
              "pandas.core.frame.DataFrame"
            ]
          },
          "metadata": {
            "tags": []
          },
          "execution_count": 50
        }
      ]
    },
    {
      "cell_type": "code",
      "metadata": {
        "colab": {
          "base_uri": "https://localhost:8080/"
        },
        "id": "1b7Ipo_s6wX3",
        "outputId": "98530e41-ca7b-4a6f-ae48-39dcd019dd36"
      },
      "source": [
        "df_tmrain_tmwater.shape"
      ],
      "execution_count": null,
      "outputs": [
        {
          "output_type": "execute_result",
          "data": {
            "text/plain": [
              "(182885, 7)"
            ]
          },
          "metadata": {
            "tags": []
          },
          "execution_count": 48
        }
      ]
    },
    {
      "cell_type": "code",
      "metadata": {
        "colab": {
          "base_uri": "https://localhost:8080/"
        },
        "id": "G0LFbe6H67JC",
        "outputId": "90ac2fd9-bfc3-45e1-a42c-1d30b16bda5c"
      },
      "source": [
        "df_tmrain_tmwater.info()"
      ],
      "execution_count": null,
      "outputs": [
        {
          "output_type": "stream",
          "text": [
            "<class 'pandas.core.frame.DataFrame'>\n",
            "RangeIndex: 182885 entries, 0 to 182884\n",
            "Data columns (total 7 columns):\n",
            " #   Column          Non-Null Count   Dtype \n",
            "---  ------          --------------   ----- \n",
            " 0   Date            182885 non-null  object\n",
            " 1   Time            182882 non-null  object\n",
            " 2   Location        182885 non-null  object\n",
            " 3   Rainfall        182882 non-null  object\n",
            " 4   RainfallStatus  182882 non-null  object\n",
            " 5   WaterLevel      9368 non-null    object\n",
            " 6   Banjir          182885 non-null  int64 \n",
            "dtypes: int64(1), object(6)\n",
            "memory usage: 9.8+ MB\n"
          ],
          "name": "stdout"
        }
      ]
    },
    {
      "cell_type": "code",
      "metadata": {
        "colab": {
          "base_uri": "https://localhost:8080/"
        },
        "id": "w6_LDQWl75HO",
        "outputId": "b3f107ec-c6e8-4ae9-b853-dd1f60767182"
      },
      "source": [
        "df_tmrain_tmwater['Location']"
      ],
      "execution_count": null,
      "outputs": [
        {
          "output_type": "execute_result",
          "data": {
            "text/plain": [
              "0         Sumur Batu\n",
              "1         Sumur Batu\n",
              "2         Sumur Batu\n",
              "3         Sumur Batu\n",
              "4         Sumur Batu\n",
              "             ...    \n",
              "182880      Cimanggu\n",
              "182881      Cimanggu\n",
              "182882      Cimanggu\n",
              "182883      Cimanggu\n",
              "182884      Cimanggu\n",
              "Name: Location, Length: 182885, dtype: object"
            ]
          },
          "metadata": {
            "tags": []
          },
          "execution_count": 53
        }
      ]
    },
    {
      "cell_type": "code",
      "metadata": {
        "colab": {
          "background_save": true
        },
        "id": "LdROFBt78FM2"
      },
      "source": [
        "Location_df = df_tmrain_tmwater['Location']"
      ],
      "execution_count": null,
      "outputs": []
    },
    {
      "cell_type": "code",
      "metadata": {
        "id": "t1qE1sn4s1yc"
      },
      "source": [
        "x=df_tmrain_tmwater['Rainfall','WaterLevel','Time']\n",
        "y=df_tmrain_tmwater['Banjir']"
      ],
      "execution_count": null,
      "outputs": []
    },
    {
      "cell_type": "code",
      "metadata": {
        "id": "oMOc7zJK6NFT"
      },
      "source": [
        ""
      ],
      "execution_count": null,
      "outputs": []
    }
  ]
}