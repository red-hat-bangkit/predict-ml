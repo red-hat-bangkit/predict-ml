{
  "nbformat": 4,
  "nbformat_minor": 0,
  "metadata": {
    "colab": {
      "name": "Predict.ipynb",
      "provenance": [],
      "collapsed_sections": [],
      "toc_visible": true
    },
    "kernelspec": {
      "display_name": "Python 3",
      "name": "python3"
    },
    "language_info": {
      "name": "python"
    },
    "accelerator": "GPU"
  },
  "cells": [
    {
      "cell_type": "markdown",
      "metadata": {
        "id": "TtmtiGxvprmO"
      },
      "source": [
        "#Flood Prediction"
      ]
    },
    {
      "cell_type": "markdown",
      "metadata": {
        "id": "XD3jayT9pyXq"
      },
      "source": [
        "Import Required Libraries"
      ]
    },
    {
      "cell_type": "code",
      "metadata": {
        "id": "NHTLK7hjlu0o"
      },
      "source": [
        "import numpy as np\n",
        "import pandas as pd\n",
        "from sklearn.linear_model import LinearRegression"
      ],
      "execution_count": 35,
      "outputs": []
    },
    {
      "cell_type": "markdown",
      "metadata": {
        "id": "r-cXNQi8T-Ml"
      },
      "source": [
        "## Telemetri Data"
      ]
    },
    {
      "cell_type": "code",
      "metadata": {
        "colab": {
          "base_uri": "https://localhost:8080/",
          "height": 402
        },
        "id": "qbWKQ-VDT_q_",
        "outputId": "80ec445d-a5fb-4b63-b453-f24336eed28a"
      },
      "source": [
        "def gsheet_to_csv(url: str):\n",
        "  sheet_url = url\n",
        "  csv = sheet_url.replace('/edit#gid=', '/export?format=csv&gid=')\n",
        "  return csv\n",
        "\n",
        "df_telemetri_rainfall = pd.read_csv(gsheet_to_csv(\"https://docs.google.com/spreadsheets/d/1nI8m27noE1mMiXQXde8jyXD6-qhuMQ2tE-gXxBkuxi4/edit#gid=0\"))\n",
        "df_telemetri_rainfall"
      ],
      "execution_count": 36,
      "outputs": [
        {
          "output_type": "execute_result",
          "data": {
            "text/html": [
              "<div>\n",
              "<style scoped>\n",
              "    .dataframe tbody tr th:only-of-type {\n",
              "        vertical-align: middle;\n",
              "    }\n",
              "\n",
              "    .dataframe tbody tr th {\n",
              "        vertical-align: top;\n",
              "    }\n",
              "\n",
              "    .dataframe thead th {\n",
              "        text-align: right;\n",
              "    }\n",
              "</style>\n",
              "<table border=\"1\" class=\"dataframe\">\n",
              "  <thead>\n",
              "    <tr style=\"text-align: right;\">\n",
              "      <th></th>\n",
              "      <th>Location</th>\n",
              "      <th>Date</th>\n",
              "      <th>Time</th>\n",
              "      <th>Rainfall</th>\n",
              "      <th>Status</th>\n",
              "    </tr>\n",
              "  </thead>\n",
              "  <tbody>\n",
              "    <tr>\n",
              "      <th>0</th>\n",
              "      <td>Sumur Batu</td>\n",
              "      <td>15-Jul-20</td>\n",
              "      <td>14:00</td>\n",
              "      <td>0.00 mm</td>\n",
              "      <td>Cerah</td>\n",
              "    </tr>\n",
              "    <tr>\n",
              "      <th>1</th>\n",
              "      <td>Sumur Batu</td>\n",
              "      <td>15-Jul-20</td>\n",
              "      <td>15:00</td>\n",
              "      <td>0.00 mm</td>\n",
              "      <td>Cerah\\</td>\n",
              "    </tr>\n",
              "    <tr>\n",
              "      <th>2</th>\n",
              "      <td>Sumur Batu</td>\n",
              "      <td>16-Jul-20</td>\n",
              "      <td>7:00</td>\n",
              "      <td>0.00 mm</td>\n",
              "      <td>Cerah</td>\n",
              "    </tr>\n",
              "    <tr>\n",
              "      <th>3</th>\n",
              "      <td>Sumur Batu</td>\n",
              "      <td>17-Jul-20</td>\n",
              "      <td>4:00</td>\n",
              "      <td>0.00 mm</td>\n",
              "      <td>Cerah</td>\n",
              "    </tr>\n",
              "    <tr>\n",
              "      <th>4</th>\n",
              "      <td>Sumur Batu</td>\n",
              "      <td>17-Jul-20</td>\n",
              "      <td>6:00</td>\n",
              "      <td>0.00 mm</td>\n",
              "      <td>Cerah</td>\n",
              "    </tr>\n",
              "    <tr>\n",
              "      <th>...</th>\n",
              "      <td>...</td>\n",
              "      <td>...</td>\n",
              "      <td>...</td>\n",
              "      <td>...</td>\n",
              "      <td>...</td>\n",
              "    </tr>\n",
              "    <tr>\n",
              "      <th>182880</th>\n",
              "      <td>Cimanggu</td>\n",
              "      <td>28-Jan-21</td>\n",
              "      <td>3:00</td>\n",
              "      <td>0.00 mm</td>\n",
              "      <td>Cerah</td>\n",
              "    </tr>\n",
              "    <tr>\n",
              "      <th>182881</th>\n",
              "      <td>Cimanggu</td>\n",
              "      <td>28-Jan-21</td>\n",
              "      <td>5:00</td>\n",
              "      <td>0.00 mm</td>\n",
              "      <td>Cerah</td>\n",
              "    </tr>\n",
              "    <tr>\n",
              "      <th>182882</th>\n",
              "      <td>Cimanggu</td>\n",
              "      <td>28-Jan-21</td>\n",
              "      <td>7:00</td>\n",
              "      <td>0.00 mm</td>\n",
              "      <td>Cerah</td>\n",
              "    </tr>\n",
              "    <tr>\n",
              "      <th>182883</th>\n",
              "      <td>Cimanggu</td>\n",
              "      <td>28-Jan-21</td>\n",
              "      <td>8:00</td>\n",
              "      <td>12.00 mm</td>\n",
              "      <td>Lebat</td>\n",
              "    </tr>\n",
              "    <tr>\n",
              "      <th>182884</th>\n",
              "      <td>Cimanggu</td>\n",
              "      <td>28-Jan-21</td>\n",
              "      <td>10:00</td>\n",
              "      <td>0.00 mm</td>\n",
              "      <td>Cerah</td>\n",
              "    </tr>\n",
              "  </tbody>\n",
              "</table>\n",
              "<p>182885 rows × 5 columns</p>\n",
              "</div>"
            ],
            "text/plain": [
              "          Location       Date   Time  Rainfall  Status\n",
              "0       Sumur Batu  15-Jul-20  14:00   0.00 mm   Cerah\n",
              "1       Sumur Batu  15-Jul-20  15:00   0.00 mm  Cerah\\\n",
              "2       Sumur Batu  16-Jul-20   7:00   0.00 mm   Cerah\n",
              "3       Sumur Batu  17-Jul-20   4:00   0.00 mm   Cerah\n",
              "4       Sumur Batu  17-Jul-20   6:00   0.00 mm   Cerah\n",
              "...            ...        ...    ...       ...     ...\n",
              "182880    Cimanggu  28-Jan-21   3:00   0.00 mm   Cerah\n",
              "182881    Cimanggu  28-Jan-21   5:00   0.00 mm   Cerah\n",
              "182882    Cimanggu  28-Jan-21   7:00   0.00 mm   Cerah\n",
              "182883    Cimanggu  28-Jan-21   8:00  12.00 mm   Lebat\n",
              "182884    Cimanggu  28-Jan-21  10:00   0.00 mm   Cerah\n",
              "\n",
              "[182885 rows x 5 columns]"
            ]
          },
          "metadata": {
            "tags": []
          },
          "execution_count": 36
        }
      ]
    },
    {
      "cell_type": "code",
      "metadata": {
        "colab": {
          "base_uri": "https://localhost:8080/",
          "height": 402
        },
        "id": "BP-Ggm-HUKRc",
        "outputId": "039c06d0-e559-4a94-9fce-93e8a9850706"
      },
      "source": [
        "df_telemetri_waterlevel = pd.read_csv(gsheet_to_csv(\"https://docs.google.com/spreadsheets/d/1xy16th0oBqQ9kux8XGKmkk6AO1flGq1hj1kYqDLn4YI/edit#gid=0\"))\n",
        "df_telemetri_waterlevel.rename(columns = {'Water Level (cm)': 'water_level', 'Date ':'Date'}, inplace = True)\n",
        "df_telemetri_waterlevel"
      ],
      "execution_count": 37,
      "outputs": [
        {
          "output_type": "execute_result",
          "data": {
            "text/html": [
              "<div>\n",
              "<style scoped>\n",
              "    .dataframe tbody tr th:only-of-type {\n",
              "        vertical-align: middle;\n",
              "    }\n",
              "\n",
              "    .dataframe tbody tr th {\n",
              "        vertical-align: top;\n",
              "    }\n",
              "\n",
              "    .dataframe thead th {\n",
              "        text-align: right;\n",
              "    }\n",
              "</style>\n",
              "<table border=\"1\" class=\"dataframe\">\n",
              "  <thead>\n",
              "    <tr style=\"text-align: right;\">\n",
              "      <th></th>\n",
              "      <th>Location</th>\n",
              "      <th>Date</th>\n",
              "      <th>Time</th>\n",
              "      <th>water_level</th>\n",
              "    </tr>\n",
              "  </thead>\n",
              "  <tbody>\n",
              "    <tr>\n",
              "      <th>0</th>\n",
              "      <td>Cileungsi</td>\n",
              "      <td>2-Jun-19</td>\n",
              "      <td>0:00</td>\n",
              "      <td>34 cm</td>\n",
              "    </tr>\n",
              "    <tr>\n",
              "      <th>1</th>\n",
              "      <td>Cileungsi</td>\n",
              "      <td>2-Jun-19</td>\n",
              "      <td>1:00</td>\n",
              "      <td>34 cm</td>\n",
              "    </tr>\n",
              "    <tr>\n",
              "      <th>2</th>\n",
              "      <td>Cileungsi</td>\n",
              "      <td>2-Jun-19</td>\n",
              "      <td>2:00</td>\n",
              "      <td>34 cm</td>\n",
              "    </tr>\n",
              "    <tr>\n",
              "      <th>3</th>\n",
              "      <td>Cileungsi</td>\n",
              "      <td>2-Jun-19</td>\n",
              "      <td>3:00</td>\n",
              "      <td>34 cm</td>\n",
              "    </tr>\n",
              "    <tr>\n",
              "      <th>4</th>\n",
              "      <td>Cileungsi</td>\n",
              "      <td>2-Jun-19</td>\n",
              "      <td>4:00</td>\n",
              "      <td>34 cm</td>\n",
              "    </tr>\n",
              "    <tr>\n",
              "      <th>...</th>\n",
              "      <td>...</td>\n",
              "      <td>...</td>\n",
              "      <td>...</td>\n",
              "      <td>...</td>\n",
              "    </tr>\n",
              "    <tr>\n",
              "      <th>129208</th>\n",
              "      <td>Pondok Kelapa</td>\n",
              "      <td>22 Jan 2021</td>\n",
              "      <td>5:00</td>\n",
              "      <td>-188 cm</td>\n",
              "    </tr>\n",
              "    <tr>\n",
              "      <th>129209</th>\n",
              "      <td>Pondok Kelapa</td>\n",
              "      <td>22 Jan 2021</td>\n",
              "      <td>6:00</td>\n",
              "      <td>-188 cm</td>\n",
              "    </tr>\n",
              "    <tr>\n",
              "      <th>129210</th>\n",
              "      <td>Pondok Kelapa</td>\n",
              "      <td>22 Jan 2021</td>\n",
              "      <td>7:00</td>\n",
              "      <td>-188 cm</td>\n",
              "    </tr>\n",
              "    <tr>\n",
              "      <th>129211</th>\n",
              "      <td>Pondok Kelapa</td>\n",
              "      <td>22 Jan 2021</td>\n",
              "      <td>8:00</td>\n",
              "      <td>-188 cm</td>\n",
              "    </tr>\n",
              "    <tr>\n",
              "      <th>129212</th>\n",
              "      <td>Pondok Kelapa</td>\n",
              "      <td>22 Jan 2021</td>\n",
              "      <td>10:00</td>\n",
              "      <td>-188 cm</td>\n",
              "    </tr>\n",
              "  </tbody>\n",
              "</table>\n",
              "<p>129213 rows × 4 columns</p>\n",
              "</div>"
            ],
            "text/plain": [
              "             Location         Date   Time water_level\n",
              "0           Cileungsi     2-Jun-19   0:00       34 cm\n",
              "1           Cileungsi     2-Jun-19   1:00       34 cm\n",
              "2           Cileungsi     2-Jun-19   2:00       34 cm\n",
              "3           Cileungsi     2-Jun-19   3:00       34 cm\n",
              "4           Cileungsi     2-Jun-19   4:00       34 cm\n",
              "...               ...          ...    ...         ...\n",
              "129208  Pondok Kelapa  22 Jan 2021   5:00     -188 cm\n",
              "129209  Pondok Kelapa  22 Jan 2021   6:00     -188 cm\n",
              "129210  Pondok Kelapa  22 Jan 2021   7:00     -188 cm\n",
              "129211  Pondok Kelapa  22 Jan 2021   8:00     -188 cm\n",
              "129212  Pondok Kelapa  22 Jan 2021  10:00     -188 cm\n",
              "\n",
              "[129213 rows x 4 columns]"
            ]
          },
          "metadata": {
            "tags": []
          },
          "execution_count": 37
        }
      ]
    },
    {
      "cell_type": "code",
      "metadata": {
        "id": "cCbLf_CLXPW6"
      },
      "source": [
        "# Pandas Left Join is Out of Memory\n",
        "# pd.merge(df_telemetri_rainfall, df_telemetri_waterlevel, how=\"left\", on=\"Location\")\n",
        "# Let's try to use sql"
      ],
      "execution_count": 38,
      "outputs": []
    },
    {
      "cell_type": "markdown",
      "metadata": {
        "id": "pJHZb_6VrTsA"
      },
      "source": [
        "**Pandas Left Join is Out of Memory**\n",
        "```python\n",
        "pd.merge(df_telemetri_rainfall, df_telemetri_waterlevel, how=\"left\", on=\"Location\")\n",
        "```\n",
        "Let's try to use sql instead"
      ]
    },
    {
      "cell_type": "code",
      "metadata": {
        "id": "aD7VOmz9bgeP"
      },
      "source": [
        "from sqlalchemy import create_engine\n",
        "engine = create_engine('sqlite:///./db.sqlite3', echo=False)"
      ],
      "execution_count": 39,
      "outputs": []
    },
    {
      "cell_type": "code",
      "metadata": {
        "id": "ZoaTKIEbhSzU"
      },
      "source": [
        "# Save to sql\n",
        "df_telemetri_waterlevel.to_sql(\"telemetri_waterlevel\", if_exists=\"replace\", con=engine)\n",
        "df_telemetri_rainfall.to_sql(\"telemetri_rainfall\", if_exists=\"replace\", con=engine)"
      ],
      "execution_count": 40,
      "outputs": []
    },
    {
      "cell_type": "code",
      "metadata": {
        "colab": {
          "base_uri": "https://localhost:8080/"
        },
        "id": "NmEznk0Kiu11",
        "outputId": "00dd4b3d-fe3b-46e3-c9a6-4a33a60ba660"
      },
      "source": [
        "# check length\n",
        "print(len(df_telemetri_rainfall))\n",
        "print(len(df_telemetri_waterlevel))"
      ],
      "execution_count": 41,
      "outputs": [
        {
          "output_type": "stream",
          "text": [
            "182885\n",
            "129213\n"
          ],
          "name": "stdout"
        }
      ]
    },
    {
      "cell_type": "markdown",
      "metadata": {
        "id": "bUZw5gEjv576"
      },
      "source": [
        "Join operations ini untuk menggabungkan data dengan cara mengambil semua data yang memiliki nilai **water_level** dan **Rainfall** (jika ada label data banjir dari PUPR)\n",
        "```\n",
        "SELECT \n",
        "  tr.Date AS Date,\n",
        "  tr.Time AS Time,\n",
        "  tr.Location AS Location,\n",
        "  tr.Rainfall AS Rainfall,\n",
        "  tr.Status AS RainfallStatus,\n",
        "  tw.water_level AS WaterLevel\n",
        "FROM telemetri_rainfall AS tr\n",
        "LEFT JOIN telemetri_waterlevel AS tw\n",
        "ON tr.Location = tw.Location AND tr.Date = tw.Date AND tr.Time = tw.Time\n",
        "\n",
        "UNION\n",
        "\n",
        "SELECT \n",
        "  tw.Date AS Date,\n",
        "  tw.Time AS Time,\n",
        "  tw.Location AS Location,\n",
        "  tr.Rainfall AS Rainfall,\n",
        "  tr.Status AS RainfallStatus,\n",
        "  tw.water_level AS WaterLevel\n",
        "FROM telemetri_waterlevel AS tw\n",
        "LEFT JOIN telemetri_rainfall AS tr\n",
        "ON tr.Location = tw.Location AND tr.Date = tw.Date AND tr.Time = tw.Time\n",
        "```\n",
        "Namun karena menggunakan asumsi bahwa jika **RainfallStatus** == lebat  sebagai label banjir maka digunakan join ini\n",
        "```\n",
        "SELECT \n",
        "  tr.Date AS Date,\n",
        "  tr.Time AS Time,\n",
        "  tr.Location AS Location,\n",
        "  tr.Rainfall AS Rainfall,\n",
        "  tr.Status AS RainfallStatus,\n",
        "  tw.water_level AS WaterLevel\n",
        "FROM telemetri_rainfall AS tr\n",
        "LEFT JOIN telemetri_waterlevel AS tw\n",
        "ON tr.Location = tw.Location AND tr.Date = tw.Date AND tr.Time = tw.Time\n",
        "```"
      ]
    },
    {
      "cell_type": "code",
      "metadata": {
        "colab": {
          "base_uri": "https://localhost:8080/",
          "height": 402
        },
        "id": "JO2iI7Vlhms4",
        "outputId": "72bc3a33-776d-41ad-a5a7-efab43a2636e"
      },
      "source": [
        "query = engine.execute('''\n",
        "SELECT \n",
        "  tr.Date AS Date,\n",
        "  tr.Time AS Time,\n",
        "  tr.Location AS Location,\n",
        "  tr.Rainfall AS Rainfall,\n",
        "  tr.Status AS RainfallStatus,\n",
        "  tw.water_level AS WaterLevel\n",
        "FROM telemetri_rainfall AS tr\n",
        "LEFT JOIN telemetri_waterlevel AS tw\n",
        "ON tr.Location = tw.Location AND tr.Date = tw.Date AND tr.Time = tw.Time\n",
        "''')\n",
        "df_tmrain_tmwater = pd.DataFrame(query.fetchall())\n",
        "df_tmrain_tmwater.columns = query.keys()\n",
        "df_tmrain_tmwater"
      ],
      "execution_count": 42,
      "outputs": [
        {
          "output_type": "execute_result",
          "data": {
            "text/html": [
              "<div>\n",
              "<style scoped>\n",
              "    .dataframe tbody tr th:only-of-type {\n",
              "        vertical-align: middle;\n",
              "    }\n",
              "\n",
              "    .dataframe tbody tr th {\n",
              "        vertical-align: top;\n",
              "    }\n",
              "\n",
              "    .dataframe thead th {\n",
              "        text-align: right;\n",
              "    }\n",
              "</style>\n",
              "<table border=\"1\" class=\"dataframe\">\n",
              "  <thead>\n",
              "    <tr style=\"text-align: right;\">\n",
              "      <th></th>\n",
              "      <th>Date</th>\n",
              "      <th>Time</th>\n",
              "      <th>Location</th>\n",
              "      <th>Rainfall</th>\n",
              "      <th>RainfallStatus</th>\n",
              "      <th>WaterLevel</th>\n",
              "    </tr>\n",
              "  </thead>\n",
              "  <tbody>\n",
              "    <tr>\n",
              "      <th>0</th>\n",
              "      <td>15-Jul-20</td>\n",
              "      <td>14:00</td>\n",
              "      <td>Sumur Batu</td>\n",
              "      <td>0.00 mm</td>\n",
              "      <td>Cerah</td>\n",
              "      <td>None</td>\n",
              "    </tr>\n",
              "    <tr>\n",
              "      <th>1</th>\n",
              "      <td>15-Jul-20</td>\n",
              "      <td>15:00</td>\n",
              "      <td>Sumur Batu</td>\n",
              "      <td>0.00 mm</td>\n",
              "      <td>Cerah\\</td>\n",
              "      <td>None</td>\n",
              "    </tr>\n",
              "    <tr>\n",
              "      <th>2</th>\n",
              "      <td>16-Jul-20</td>\n",
              "      <td>7:00</td>\n",
              "      <td>Sumur Batu</td>\n",
              "      <td>0.00 mm</td>\n",
              "      <td>Cerah</td>\n",
              "      <td>None</td>\n",
              "    </tr>\n",
              "    <tr>\n",
              "      <th>3</th>\n",
              "      <td>17-Jul-20</td>\n",
              "      <td>4:00</td>\n",
              "      <td>Sumur Batu</td>\n",
              "      <td>0.00 mm</td>\n",
              "      <td>Cerah</td>\n",
              "      <td>None</td>\n",
              "    </tr>\n",
              "    <tr>\n",
              "      <th>4</th>\n",
              "      <td>17-Jul-20</td>\n",
              "      <td>6:00</td>\n",
              "      <td>Sumur Batu</td>\n",
              "      <td>0.00 mm</td>\n",
              "      <td>Cerah</td>\n",
              "      <td>None</td>\n",
              "    </tr>\n",
              "    <tr>\n",
              "      <th>...</th>\n",
              "      <td>...</td>\n",
              "      <td>...</td>\n",
              "      <td>...</td>\n",
              "      <td>...</td>\n",
              "      <td>...</td>\n",
              "      <td>...</td>\n",
              "    </tr>\n",
              "    <tr>\n",
              "      <th>182880</th>\n",
              "      <td>28-Jan-21</td>\n",
              "      <td>3:00</td>\n",
              "      <td>Cimanggu</td>\n",
              "      <td>0.00 mm</td>\n",
              "      <td>Cerah</td>\n",
              "      <td>None</td>\n",
              "    </tr>\n",
              "    <tr>\n",
              "      <th>182881</th>\n",
              "      <td>28-Jan-21</td>\n",
              "      <td>5:00</td>\n",
              "      <td>Cimanggu</td>\n",
              "      <td>0.00 mm</td>\n",
              "      <td>Cerah</td>\n",
              "      <td>None</td>\n",
              "    </tr>\n",
              "    <tr>\n",
              "      <th>182882</th>\n",
              "      <td>28-Jan-21</td>\n",
              "      <td>7:00</td>\n",
              "      <td>Cimanggu</td>\n",
              "      <td>0.00 mm</td>\n",
              "      <td>Cerah</td>\n",
              "      <td>None</td>\n",
              "    </tr>\n",
              "    <tr>\n",
              "      <th>182883</th>\n",
              "      <td>28-Jan-21</td>\n",
              "      <td>8:00</td>\n",
              "      <td>Cimanggu</td>\n",
              "      <td>12.00 mm</td>\n",
              "      <td>Lebat</td>\n",
              "      <td>None</td>\n",
              "    </tr>\n",
              "    <tr>\n",
              "      <th>182884</th>\n",
              "      <td>28-Jan-21</td>\n",
              "      <td>10:00</td>\n",
              "      <td>Cimanggu</td>\n",
              "      <td>0.00 mm</td>\n",
              "      <td>Cerah</td>\n",
              "      <td>None</td>\n",
              "    </tr>\n",
              "  </tbody>\n",
              "</table>\n",
              "<p>182885 rows × 6 columns</p>\n",
              "</div>"
            ],
            "text/plain": [
              "             Date   Time    Location  Rainfall RainfallStatus WaterLevel\n",
              "0       15-Jul-20  14:00  Sumur Batu   0.00 mm          Cerah       None\n",
              "1       15-Jul-20  15:00  Sumur Batu   0.00 mm         Cerah\\       None\n",
              "2       16-Jul-20   7:00  Sumur Batu   0.00 mm          Cerah       None\n",
              "3       17-Jul-20   4:00  Sumur Batu   0.00 mm          Cerah       None\n",
              "4       17-Jul-20   6:00  Sumur Batu   0.00 mm          Cerah       None\n",
              "...           ...    ...         ...       ...            ...        ...\n",
              "182880  28-Jan-21   3:00    Cimanggu   0.00 mm          Cerah       None\n",
              "182881  28-Jan-21   5:00    Cimanggu   0.00 mm          Cerah       None\n",
              "182882  28-Jan-21   7:00    Cimanggu   0.00 mm          Cerah       None\n",
              "182883  28-Jan-21   8:00    Cimanggu  12.00 mm          Lebat       None\n",
              "182884  28-Jan-21  10:00    Cimanggu   0.00 mm          Cerah       None\n",
              "\n",
              "[182885 rows x 6 columns]"
            ]
          },
          "metadata": {
            "tags": []
          },
          "execution_count": 42
        }
      ]
    },
    {
      "cell_type": "code",
      "metadata": {
        "colab": {
          "base_uri": "https://localhost:8080/",
          "height": 166
        },
        "id": "d7rxcNtSiPfn",
        "outputId": "9e6c72d6-493c-4063-f25e-da5f957882c7"
      },
      "source": [
        "df_tmrain_tmwater.describe()"
      ],
      "execution_count": 43,
      "outputs": [
        {
          "output_type": "execute_result",
          "data": {
            "text/html": [
              "<div>\n",
              "<style scoped>\n",
              "    .dataframe tbody tr th:only-of-type {\n",
              "        vertical-align: middle;\n",
              "    }\n",
              "\n",
              "    .dataframe tbody tr th {\n",
              "        vertical-align: top;\n",
              "    }\n",
              "\n",
              "    .dataframe thead th {\n",
              "        text-align: right;\n",
              "    }\n",
              "</style>\n",
              "<table border=\"1\" class=\"dataframe\">\n",
              "  <thead>\n",
              "    <tr style=\"text-align: right;\">\n",
              "      <th></th>\n",
              "      <th>Date</th>\n",
              "      <th>Time</th>\n",
              "      <th>Location</th>\n",
              "      <th>Rainfall</th>\n",
              "      <th>RainfallStatus</th>\n",
              "      <th>WaterLevel</th>\n",
              "    </tr>\n",
              "  </thead>\n",
              "  <tbody>\n",
              "    <tr>\n",
              "      <th>count</th>\n",
              "      <td>182885</td>\n",
              "      <td>182882</td>\n",
              "      <td>182885</td>\n",
              "      <td>182882</td>\n",
              "      <td>182882</td>\n",
              "      <td>9368</td>\n",
              "    </tr>\n",
              "    <tr>\n",
              "      <th>unique</th>\n",
              "      <td>1221</td>\n",
              "      <td>24</td>\n",
              "      <td>19</td>\n",
              "      <td>297</td>\n",
              "      <td>9</td>\n",
              "      <td>20</td>\n",
              "    </tr>\n",
              "    <tr>\n",
              "      <th>top</th>\n",
              "      <td>11-Sep-20</td>\n",
              "      <td>12:00</td>\n",
              "      <td>Bendungan Gintung</td>\n",
              "      <td>0.00 mm</td>\n",
              "      <td>Cerah</td>\n",
              "      <td>9,690 cm</td>\n",
              "    </tr>\n",
              "    <tr>\n",
              "      <th>freq</th>\n",
              "      <td>384</td>\n",
              "      <td>7776</td>\n",
              "      <td>19218</td>\n",
              "      <td>173749</td>\n",
              "      <td>173669</td>\n",
              "      <td>2558</td>\n",
              "    </tr>\n",
              "  </tbody>\n",
              "</table>\n",
              "</div>"
            ],
            "text/plain": [
              "             Date    Time           Location Rainfall RainfallStatus WaterLevel\n",
              "count      182885  182882             182885   182882         182882       9368\n",
              "unique       1221      24                 19      297              9         20\n",
              "top     11-Sep-20   12:00  Bendungan Gintung  0.00 mm          Cerah   9,690 cm\n",
              "freq          384    7776              19218   173749         173669       2558"
            ]
          },
          "metadata": {
            "tags": []
          },
          "execution_count": 43
        }
      ]
    },
    {
      "cell_type": "markdown",
      "metadata": {
        "id": "JbYvMnsExLNl"
      },
      "source": [
        "## Preprocessing Data"
      ]
    },
    {
      "cell_type": "markdown",
      "metadata": {
        "id": "CNBX7W8PeCxb"
      },
      "source": [
        "Number of Missing Value "
      ]
    },
    {
      "cell_type": "code",
      "metadata": {
        "colab": {
          "base_uri": "https://localhost:8080/"
        },
        "id": "DJRVK3N6dquS",
        "outputId": "a072b9ba-344b-453f-c824-c6e7cd7ef445"
      },
      "source": [
        "df_tmrain_tmwater.isnull().sum() "
      ],
      "execution_count": 44,
      "outputs": [
        {
          "output_type": "execute_result",
          "data": {
            "text/plain": [
              "Date                   0\n",
              "Time                   3\n",
              "Location               0\n",
              "Rainfall               3\n",
              "RainfallStatus         3\n",
              "WaterLevel        173517\n",
              "dtype: int64"
            ]
          },
          "metadata": {
            "tags": []
          },
          "execution_count": 44
        }
      ]
    },
    {
      "cell_type": "code",
      "metadata": {
        "colab": {
          "base_uri": "https://localhost:8080/"
        },
        "id": "dFo8bZ4axT88",
        "outputId": "b7573cee-235a-4bb3-a652-50876ffda558"
      },
      "source": [
        "df_tmrain_tmwater['RainfallStatus'].unique()"
      ],
      "execution_count": 45,
      "outputs": [
        {
          "output_type": "execute_result",
          "data": {
            "text/plain": [
              "array(['Cerah', 'Cerah\\\\', 'Lebat', 'Ringan', 'Sedang', 'Sangat Lebat',\n",
              "       'Bright', 'Is', 'Light', None], dtype=object)"
            ]
          },
          "metadata": {
            "tags": []
          },
          "execution_count": 45
        }
      ]
    },
    {
      "cell_type": "code",
      "metadata": {
        "colab": {
          "base_uri": "https://localhost:8080/"
        },
        "id": "a1rxKEr3xrMg",
        "outputId": "14a8c3ef-b03d-4139-f54d-12d41f544276"
      },
      "source": [
        "# Clean Column RainfallStatus\n",
        "df_tmrain_tmwater.loc[df_tmrain_tmwater['RainfallStatus']=='Cerah\\\\', 'RainfallStatus'] = \"Cerah\"\n",
        "df_tmrain_tmwater.loc[df_tmrain_tmwater['RainfallStatus']=='Light', 'RainfallStatus'] = \"Ringan\"\n",
        "df_tmrain_tmwater.loc[df_tmrain_tmwater['RainfallStatus']=='Is', 'RainfallStatus'] = \"Sedang\"\n",
        "df_tmrain_tmwater.loc[df_tmrain_tmwater['RainfallStatus']=='Bright', 'RainfallStatus'] = \"Cerah\"\n",
        "df_tmrain_tmwater = df_tmrain_tmwater[df_tmrain_tmwater['RainfallStatus'].notna()]\n",
        "df_tmrain_tmwater['RainfallStatus'].unique()"
      ],
      "execution_count": 46,
      "outputs": [
        {
          "output_type": "execute_result",
          "data": {
            "text/plain": [
              "array(['Cerah', 'Lebat', 'Ringan', 'Sedang', 'Sangat Lebat'], dtype=object)"
            ]
          },
          "metadata": {
            "tags": []
          },
          "execution_count": 46
        }
      ]
    },
    {
      "cell_type": "markdown",
      "metadata": {
        "id": "JYaRir704H_4"
      },
      "source": [
        "### Data metrics defenition\n",
        "* Rainfall (mm)\n",
        "\n",
        "  1mm rainfall means every one square meter area is filled with the water of height 1mm.\n",
        "  1 square meter = 1000mm length ×1000mm breath\n",
        "  So 1mm rain means 1000mm length × 1000mm breath × 1mm height = 1litre of water.\n",
        "  Every square meter has one litre of water"
      ]
    },
    {
      "cell_type": "code",
      "metadata": {
        "colab": {
          "base_uri": "https://localhost:8080/",
          "height": 435
        },
        "id": "FestDMeN2SGH",
        "outputId": "14957f97-8dd6-44a9-eb01-6f877a37440a"
      },
      "source": [
        "df_tmrain_tmwater[df_tmrain_tmwater['WaterLevel'].notna()][df_tmrain_tmwater['RainfallStatus'] == \"Lebat\"]"
      ],
      "execution_count": 47,
      "outputs": [
        {
          "output_type": "stream",
          "text": [
            "/usr/local/lib/python3.7/dist-packages/ipykernel_launcher.py:1: UserWarning: Boolean Series key will be reindexed to match DataFrame index.\n",
            "  \"\"\"Entry point for launching an IPython kernel.\n"
          ],
          "name": "stderr"
        },
        {
          "output_type": "execute_result",
          "data": {
            "text/html": [
              "<div>\n",
              "<style scoped>\n",
              "    .dataframe tbody tr th:only-of-type {\n",
              "        vertical-align: middle;\n",
              "    }\n",
              "\n",
              "    .dataframe tbody tr th {\n",
              "        vertical-align: top;\n",
              "    }\n",
              "\n",
              "    .dataframe thead th {\n",
              "        text-align: right;\n",
              "    }\n",
              "</style>\n",
              "<table border=\"1\" class=\"dataframe\">\n",
              "  <thead>\n",
              "    <tr style=\"text-align: right;\">\n",
              "      <th></th>\n",
              "      <th>Date</th>\n",
              "      <th>Time</th>\n",
              "      <th>Location</th>\n",
              "      <th>Rainfall</th>\n",
              "      <th>RainfallStatus</th>\n",
              "      <th>WaterLevel</th>\n",
              "    </tr>\n",
              "  </thead>\n",
              "  <tbody>\n",
              "    <tr>\n",
              "      <th>119714</th>\n",
              "      <td>16-Jan-20</td>\n",
              "      <td>15:00</td>\n",
              "      <td>Bendungan Gintung</td>\n",
              "      <td>11.00 mm</td>\n",
              "      <td>Lebat</td>\n",
              "      <td>9,660 cm</td>\n",
              "    </tr>\n",
              "    <tr>\n",
              "      <th>119751</th>\n",
              "      <td>18-Jan-20</td>\n",
              "      <td>4:00</td>\n",
              "      <td>Bendungan Gintung</td>\n",
              "      <td>13.00 mm</td>\n",
              "      <td>Lebat</td>\n",
              "      <td>9,660 cm</td>\n",
              "    </tr>\n",
              "    <tr>\n",
              "      <th>119897</th>\n",
              "      <td>24-Jan-20</td>\n",
              "      <td>9:00</td>\n",
              "      <td>Bendungan Gintung</td>\n",
              "      <td>18.00 mm</td>\n",
              "      <td>Lebat</td>\n",
              "      <td>9,670 cm</td>\n",
              "    </tr>\n",
              "    <tr>\n",
              "      <th>119954</th>\n",
              "      <td>26-Jan-20</td>\n",
              "      <td>18:00</td>\n",
              "      <td>Bendungan Gintung</td>\n",
              "      <td>13.00 mm</td>\n",
              "      <td>Lebat</td>\n",
              "      <td>9,650 cm</td>\n",
              "    </tr>\n",
              "    <tr>\n",
              "      <th>120029</th>\n",
              "      <td>29-Jan-20</td>\n",
              "      <td>23:00</td>\n",
              "      <td>Bendungan Gintung</td>\n",
              "      <td>11.00 mm</td>\n",
              "      <td>Lebat</td>\n",
              "      <td>9,650 cm</td>\n",
              "    </tr>\n",
              "    <tr>\n",
              "      <th>...</th>\n",
              "      <td>...</td>\n",
              "      <td>...</td>\n",
              "      <td>...</td>\n",
              "      <td>...</td>\n",
              "      <td>...</td>\n",
              "      <td>...</td>\n",
              "    </tr>\n",
              "    <tr>\n",
              "      <th>126835</th>\n",
              "      <td>20-Nov-20</td>\n",
              "      <td>16:00</td>\n",
              "      <td>Bendungan Gintung</td>\n",
              "      <td>12.00 mm</td>\n",
              "      <td>Lebat</td>\n",
              "      <td>9,660 cm</td>\n",
              "    </tr>\n",
              "    <tr>\n",
              "      <th>127061</th>\n",
              "      <td>30-Nov-20</td>\n",
              "      <td>10:00</td>\n",
              "      <td>Bendungan Gintung</td>\n",
              "      <td>13.00 mm</td>\n",
              "      <td>Lebat</td>\n",
              "      <td>9,630 cm</td>\n",
              "    </tr>\n",
              "    <tr>\n",
              "      <th>127062</th>\n",
              "      <td>30-Nov-20</td>\n",
              "      <td>11:00</td>\n",
              "      <td>Bendungan Gintung</td>\n",
              "      <td>14.00 mm</td>\n",
              "      <td>Lebat</td>\n",
              "      <td>9,630 cm</td>\n",
              "    </tr>\n",
              "    <tr>\n",
              "      <th>127221</th>\n",
              "      <td>7-Dec-20</td>\n",
              "      <td>13:00</td>\n",
              "      <td>Bendungan Gintung</td>\n",
              "      <td>15.00 mm</td>\n",
              "      <td>Lebat</td>\n",
              "      <td>9,650 cm</td>\n",
              "    </tr>\n",
              "    <tr>\n",
              "      <th>127730</th>\n",
              "      <td>29-Dec-20</td>\n",
              "      <td>11:00</td>\n",
              "      <td>Bendungan Gintung</td>\n",
              "      <td>12.00 mm</td>\n",
              "      <td>Lebat</td>\n",
              "      <td>9,670 cm</td>\n",
              "    </tr>\n",
              "  </tbody>\n",
              "</table>\n",
              "<p>88 rows × 6 columns</p>\n",
              "</div>"
            ],
            "text/plain": [
              "             Date   Time           Location  Rainfall RainfallStatus WaterLevel\n",
              "119714  16-Jan-20  15:00  Bendungan Gintung  11.00 mm          Lebat   9,660 cm\n",
              "119751  18-Jan-20   4:00  Bendungan Gintung  13.00 mm          Lebat   9,660 cm\n",
              "119897  24-Jan-20   9:00  Bendungan Gintung  18.00 mm          Lebat   9,670 cm\n",
              "119954  26-Jan-20  18:00  Bendungan Gintung  13.00 mm          Lebat   9,650 cm\n",
              "120029  29-Jan-20  23:00  Bendungan Gintung  11.00 mm          Lebat   9,650 cm\n",
              "...           ...    ...                ...       ...            ...        ...\n",
              "126835  20-Nov-20  16:00  Bendungan Gintung  12.00 mm          Lebat   9,660 cm\n",
              "127061  30-Nov-20  10:00  Bendungan Gintung  13.00 mm          Lebat   9,630 cm\n",
              "127062  30-Nov-20  11:00  Bendungan Gintung  14.00 mm          Lebat   9,630 cm\n",
              "127221   7-Dec-20  13:00  Bendungan Gintung  15.00 mm          Lebat   9,650 cm\n",
              "127730  29-Dec-20  11:00  Bendungan Gintung  12.00 mm          Lebat   9,670 cm\n",
              "\n",
              "[88 rows x 6 columns]"
            ]
          },
          "metadata": {
            "tags": []
          },
          "execution_count": 47
        }
      ]
    },
    {
      "cell_type": "code",
      "metadata": {
        "id": "mDPH_Ga82C63"
      },
      "source": [
        "# Convert metrics to float\n",
        "\n",
        "from re import compile as re_compile, sub as re_sub\n",
        "\n",
        "re_rainfall_metric = re_compile(r'[^\\d.]')\n",
        "re_waterlevel_metric = re_compile(r'[^\\d,]')\n",
        "\n",
        "def rainfall_metric_to_float(metric):\n",
        "  try:\n",
        "    return float(re_rainfall_metric.sub('', metric))\n",
        "  except Exception as err:\n",
        "    return -1.0\n",
        "def waterlevel_metric_to_float(metric):\n",
        "  try:\n",
        "    return float(re_sub(r',', '', re_waterlevel_metric.sub('', metric)))\n",
        "  except Exception as err:\n",
        "    return -1.0\n",
        "ds_tmrain_tmwater_rainfall = df_tmrain_tmwater.apply(lambda row: rainfall_metric_to_float(str(row[\"Rainfall\"])), axis=1)\n",
        "ds_tmrain_tmwater_waterlevel = df_tmrain_tmwater.apply(lambda row: waterlevel_metric_to_float(str(row[\"WaterLevel\"])), axis=1)"
      ],
      "execution_count": 48,
      "outputs": []
    },
    {
      "cell_type": "code",
      "metadata": {
        "colab": {
          "base_uri": "https://localhost:8080/",
          "height": 598
        },
        "id": "B9h4_ubkQwyB",
        "outputId": "3b9d2a20-87e6-4e47-f3b5-de0180ac0364"
      },
      "source": [
        "ds_tmrain_tmwater_waterlevel.plot()"
      ],
      "execution_count": 49,
      "outputs": [
        {
          "output_type": "execute_result",
          "data": {
            "text/plain": [
              "<matplotlib.axes._subplots.AxesSubplot at 0x7f0582de6a50>"
            ]
          },
          "metadata": {
            "tags": []
          },
          "execution_count": 49
        },
        {
          "output_type": "display_data",
          "data": {
            "image/png": "[encoded data removed]",
            "text/plain": [
              "<Figure size 1440x720 with 1 Axes>"
            ]
          },
          "metadata": {
            "tags": [],
            "needs_background": "light"
          }
        }
      ]
    },
    {
      "cell_type": "code",
      "metadata": {
        "colab": {
          "base_uri": "https://localhost:8080/"
        },
        "id": "Sq-EuheRgwmJ",
        "outputId": "890d43e4-565b-4585-910a-5cd87766ae92"
      },
      "source": [
        "water_level_value_replacement = ds_tmrain_tmwater_waterlevel[ds_tmrain_tmwater_waterlevel != -1].std()\n",
        "water_level_value_replacement"
      ],
      "execution_count": 50,
      "outputs": [
        {
          "output_type": "execute_result",
          "data": {
            "text/plain": [
              "9805.946814084187"
            ]
          },
          "metadata": {
            "tags": []
          },
          "execution_count": 50
        }
      ]
    },
    {
      "cell_type": "code",
      "metadata": {
        "id": "U7wmJuS1bYw2",
        "colab": {
          "base_uri": "https://localhost:8080/",
          "height": 582
        },
        "outputId": "32869bec-8ae4-4ead-a1ef-fe56bbdb8364"
      },
      "source": [
        "# There is high spikes (probably measurement error)\n",
        "max_idx = ds_tmrain_tmwater_waterlevel[ds_tmrain_tmwater_waterlevel == ds_tmrain_tmwater_waterlevel.max()].index[0]\n",
        "ds_tmrain_tmwater_waterlevel[max_idx] = water_level_value_replacement\n",
        "ds_tmrain_tmwater_waterlevel.plot()"
      ],
      "execution_count": 51,
      "outputs": [
        {
          "output_type": "execute_result",
          "data": {
            "text/plain": [
              "<matplotlib.axes._subplots.AxesSubplot at 0x7f05843b8f90>"
            ]
          },
          "metadata": {
            "tags": []
          },
          "execution_count": 51
        },
        {
          "output_type": "display_data",
          "data": {
            "image/png": "[encoded data removed]",
            "text/plain": [
              "<Figure size 1440x720 with 1 Axes>"
            ]
          },
          "metadata": {
            "tags": [],
            "needs_background": "light"
          }
        }
      ]
    },
    {
      "cell_type": "code",
      "metadata": {
        "colab": {
          "base_uri": "https://localhost:8080/",
          "height": 585
        },
        "id": "u14joBMxfCkE",
        "outputId": "e670024a-ef6b-49d4-eea2-c17beeca0d7b"
      },
      "source": [
        "# Let's also replace missing value (-1) there\n",
        "ds_tmrain_tmwater_waterlevel[ds_tmrain_tmwater_waterlevel == -1] = water_level_value_replacement\n",
        "ds_tmrain_tmwater_waterlevel.plot()"
      ],
      "execution_count": 52,
      "outputs": [
        {
          "output_type": "execute_result",
          "data": {
            "text/plain": [
              "<matplotlib.axes._subplots.AxesSubplot at 0x7f0580fff390>"
            ]
          },
          "metadata": {
            "tags": []
          },
          "execution_count": 52
        },
        {
          "output_type": "display_data",
          "data": {
            "image/png": "[encoded data removed]",
            "text/plain": [
              "<Figure size 1440x720 with 1 Axes>"
            ]
          },
          "metadata": {
            "tags": [],
            "needs_background": "light"
          }
        }
      ]
    },
    {
      "cell_type": "code",
      "metadata": {
        "colab": {
          "base_uri": "https://localhost:8080/",
          "height": 588
        },
        "id": "Qmj_UZC9Wcbr",
        "outputId": "db4c27a3-379b-4159-b005-0324401f5587"
      },
      "source": [
        "ds_tmrain_tmwater_rainfall.plot()"
      ],
      "execution_count": 53,
      "outputs": [
        {
          "output_type": "execute_result",
          "data": {
            "text/plain": [
              "<matplotlib.axes._subplots.AxesSubplot at 0x7f05842b2190>"
            ]
          },
          "metadata": {
            "tags": []
          },
          "execution_count": 53
        },
        {
          "output_type": "display_data",
          "data": {
            "image/png": "[encoded data removed]",
            "text/plain": [
              "<Figure size 1440x720 with 1 Axes>"
            ]
          },
          "metadata": {
            "tags": [],
            "needs_background": "light"
          }
        }
      ]
    },
    {
      "cell_type": "code",
      "metadata": {
        "colab": {
          "base_uri": "https://localhost:8080/",
          "height": 603
        },
        "id": "l597BHmVlFHE",
        "outputId": "5b52315d-1cd7-4700-abb8-eece3006108c"
      },
      "source": [
        "# Looks good, let's join to main df\n",
        "df_tmrain_tmwater[\"WaterLevel\"] = ds_tmrain_tmwater_waterlevel\n",
        "df_tmrain_tmwater[\"Rainfall\"] = ds_tmrain_tmwater_rainfall\n",
        "df_tmrain_tmwater"
      ],
      "execution_count": 54,
      "outputs": [
        {
          "output_type": "stream",
          "text": [
            "/usr/local/lib/python3.7/dist-packages/ipykernel_launcher.py:2: SettingWithCopyWarning: \n",
            "A value is trying to be set on a copy of a slice from a DataFrame.\n",
            "Try using .loc[row_indexer,col_indexer] = value instead\n",
            "\n",
            "See the caveats in the documentation: https://pandas.pydata.org/pandas-docs/stable/user_guide/indexing.html#returning-a-view-versus-a-copy\n",
            "  \n",
            "/usr/local/lib/python3.7/dist-packages/ipykernel_launcher.py:3: SettingWithCopyWarning: \n",
            "A value is trying to be set on a copy of a slice from a DataFrame.\n",
            "Try using .loc[row_indexer,col_indexer] = value instead\n",
            "\n",
            "See the caveats in the documentation: https://pandas.pydata.org/pandas-docs/stable/user_guide/indexing.html#returning-a-view-versus-a-copy\n",
            "  This is separate from the ipykernel package so we can avoid doing imports until\n"
          ],
          "name": "stderr"
        },
        {
          "output_type": "execute_result",
          "data": {
            "text/html": [
              "<div>\n",
              "<style scoped>\n",
              "    .dataframe tbody tr th:only-of-type {\n",
              "        vertical-align: middle;\n",
              "    }\n",
              "\n",
              "    .dataframe tbody tr th {\n",
              "        vertical-align: top;\n",
              "    }\n",
              "\n",
              "    .dataframe thead th {\n",
              "        text-align: right;\n",
              "    }\n",
              "</style>\n",
              "<table border=\"1\" class=\"dataframe\">\n",
              "  <thead>\n",
              "    <tr style=\"text-align: right;\">\n",
              "      <th></th>\n",
              "      <th>Date</th>\n",
              "      <th>Time</th>\n",
              "      <th>Location</th>\n",
              "      <th>Rainfall</th>\n",
              "      <th>RainfallStatus</th>\n",
              "      <th>WaterLevel</th>\n",
              "    </tr>\n",
              "  </thead>\n",
              "  <tbody>\n",
              "    <tr>\n",
              "      <th>0</th>\n",
              "      <td>15-Jul-20</td>\n",
              "      <td>14:00</td>\n",
              "      <td>Sumur Batu</td>\n",
              "      <td>0.0</td>\n",
              "      <td>Cerah</td>\n",
              "      <td>9805.946814</td>\n",
              "    </tr>\n",
              "    <tr>\n",
              "      <th>1</th>\n",
              "      <td>15-Jul-20</td>\n",
              "      <td>15:00</td>\n",
              "      <td>Sumur Batu</td>\n",
              "      <td>0.0</td>\n",
              "      <td>Cerah</td>\n",
              "      <td>9805.946814</td>\n",
              "    </tr>\n",
              "    <tr>\n",
              "      <th>2</th>\n",
              "      <td>16-Jul-20</td>\n",
              "      <td>7:00</td>\n",
              "      <td>Sumur Batu</td>\n",
              "      <td>0.0</td>\n",
              "      <td>Cerah</td>\n",
              "      <td>9805.946814</td>\n",
              "    </tr>\n",
              "    <tr>\n",
              "      <th>3</th>\n",
              "      <td>17-Jul-20</td>\n",
              "      <td>4:00</td>\n",
              "      <td>Sumur Batu</td>\n",
              "      <td>0.0</td>\n",
              "      <td>Cerah</td>\n",
              "      <td>9805.946814</td>\n",
              "    </tr>\n",
              "    <tr>\n",
              "      <th>4</th>\n",
              "      <td>17-Jul-20</td>\n",
              "      <td>6:00</td>\n",
              "      <td>Sumur Batu</td>\n",
              "      <td>0.0</td>\n",
              "      <td>Cerah</td>\n",
              "      <td>9805.946814</td>\n",
              "    </tr>\n",
              "    <tr>\n",
              "      <th>...</th>\n",
              "      <td>...</td>\n",
              "      <td>...</td>\n",
              "      <td>...</td>\n",
              "      <td>...</td>\n",
              "      <td>...</td>\n",
              "      <td>...</td>\n",
              "    </tr>\n",
              "    <tr>\n",
              "      <th>182880</th>\n",
              "      <td>28-Jan-21</td>\n",
              "      <td>3:00</td>\n",
              "      <td>Cimanggu</td>\n",
              "      <td>0.0</td>\n",
              "      <td>Cerah</td>\n",
              "      <td>9805.946814</td>\n",
              "    </tr>\n",
              "    <tr>\n",
              "      <th>182881</th>\n",
              "      <td>28-Jan-21</td>\n",
              "      <td>5:00</td>\n",
              "      <td>Cimanggu</td>\n",
              "      <td>0.0</td>\n",
              "      <td>Cerah</td>\n",
              "      <td>9805.946814</td>\n",
              "    </tr>\n",
              "    <tr>\n",
              "      <th>182882</th>\n",
              "      <td>28-Jan-21</td>\n",
              "      <td>7:00</td>\n",
              "      <td>Cimanggu</td>\n",
              "      <td>0.0</td>\n",
              "      <td>Cerah</td>\n",
              "      <td>9805.946814</td>\n",
              "    </tr>\n",
              "    <tr>\n",
              "      <th>182883</th>\n",
              "      <td>28-Jan-21</td>\n",
              "      <td>8:00</td>\n",
              "      <td>Cimanggu</td>\n",
              "      <td>12.0</td>\n",
              "      <td>Lebat</td>\n",
              "      <td>9805.946814</td>\n",
              "    </tr>\n",
              "    <tr>\n",
              "      <th>182884</th>\n",
              "      <td>28-Jan-21</td>\n",
              "      <td>10:00</td>\n",
              "      <td>Cimanggu</td>\n",
              "      <td>0.0</td>\n",
              "      <td>Cerah</td>\n",
              "      <td>9805.946814</td>\n",
              "    </tr>\n",
              "  </tbody>\n",
              "</table>\n",
              "<p>182882 rows × 6 columns</p>\n",
              "</div>"
            ],
            "text/plain": [
              "             Date   Time    Location  Rainfall RainfallStatus   WaterLevel\n",
              "0       15-Jul-20  14:00  Sumur Batu       0.0          Cerah  9805.946814\n",
              "1       15-Jul-20  15:00  Sumur Batu       0.0          Cerah  9805.946814\n",
              "2       16-Jul-20   7:00  Sumur Batu       0.0          Cerah  9805.946814\n",
              "3       17-Jul-20   4:00  Sumur Batu       0.0          Cerah  9805.946814\n",
              "4       17-Jul-20   6:00  Sumur Batu       0.0          Cerah  9805.946814\n",
              "...           ...    ...         ...       ...            ...          ...\n",
              "182880  28-Jan-21   3:00    Cimanggu       0.0          Cerah  9805.946814\n",
              "182881  28-Jan-21   5:00    Cimanggu       0.0          Cerah  9805.946814\n",
              "182882  28-Jan-21   7:00    Cimanggu       0.0          Cerah  9805.946814\n",
              "182883  28-Jan-21   8:00    Cimanggu      12.0          Lebat  9805.946814\n",
              "182884  28-Jan-21  10:00    Cimanggu       0.0          Cerah  9805.946814\n",
              "\n",
              "[182882 rows x 6 columns]"
            ]
          },
          "metadata": {
            "tags": []
          },
          "execution_count": 54
        }
      ]
    },
    {
      "cell_type": "code",
      "metadata": {
        "id": "j9xPvYDdWbtR",
        "colab": {
          "base_uri": "https://localhost:8080/",
          "height": 502
        },
        "outputId": "9f3064f2-043f-4b19-e1c5-ddc6c15d3988"
      },
      "source": [
        "from datetime import datetime\n",
        "def convert_to_datetime(date: str):\n",
        "  try:\n",
        "    return datetime.strptime(date, '%d-%b-%y')\n",
        "  except ValueError:\n",
        "    return datetime.strptime(date, '%d-%B-%y')\n",
        "\n",
        "df_tmrain_tmwater['Date'] = df_tmrain_tmwater.apply(lambda row: convert_to_datetime(row[\"Date\"]), axis=1)\n",
        "df_tmrain_tmwater"
      ],
      "execution_count": 55,
      "outputs": [
        {
          "output_type": "stream",
          "text": [
            "/usr/local/lib/python3.7/dist-packages/ipykernel_launcher.py:8: SettingWithCopyWarning: \n",
            "A value is trying to be set on a copy of a slice from a DataFrame.\n",
            "Try using .loc[row_indexer,col_indexer] = value instead\n",
            "\n",
            "See the caveats in the documentation: https://pandas.pydata.org/pandas-docs/stable/user_guide/indexing.html#returning-a-view-versus-a-copy\n",
            "  \n"
          ],
          "name": "stderr"
        },
        {
          "output_type": "execute_result",
          "data": {
            "text/html": [
              "<div>\n",
              "<style scoped>\n",
              "    .dataframe tbody tr th:only-of-type {\n",
              "        vertical-align: middle;\n",
              "    }\n",
              "\n",
              "    .dataframe tbody tr th {\n",
              "        vertical-align: top;\n",
              "    }\n",
              "\n",
              "    .dataframe thead th {\n",
              "        text-align: right;\n",
              "    }\n",
              "</style>\n",
              "<table border=\"1\" class=\"dataframe\">\n",
              "  <thead>\n",
              "    <tr style=\"text-align: right;\">\n",
              "      <th></th>\n",
              "      <th>Date</th>\n",
              "      <th>Time</th>\n",
              "      <th>Location</th>\n",
              "      <th>Rainfall</th>\n",
              "      <th>RainfallStatus</th>\n",
              "      <th>WaterLevel</th>\n",
              "    </tr>\n",
              "  </thead>\n",
              "  <tbody>\n",
              "    <tr>\n",
              "      <th>0</th>\n",
              "      <td>2020-07-15</td>\n",
              "      <td>14:00</td>\n",
              "      <td>Sumur Batu</td>\n",
              "      <td>0.0</td>\n",
              "      <td>Cerah</td>\n",
              "      <td>9805.946814</td>\n",
              "    </tr>\n",
              "    <tr>\n",
              "      <th>1</th>\n",
              "      <td>2020-07-15</td>\n",
              "      <td>15:00</td>\n",
              "      <td>Sumur Batu</td>\n",
              "      <td>0.0</td>\n",
              "      <td>Cerah</td>\n",
              "      <td>9805.946814</td>\n",
              "    </tr>\n",
              "    <tr>\n",
              "      <th>2</th>\n",
              "      <td>2020-07-16</td>\n",
              "      <td>7:00</td>\n",
              "      <td>Sumur Batu</td>\n",
              "      <td>0.0</td>\n",
              "      <td>Cerah</td>\n",
              "      <td>9805.946814</td>\n",
              "    </tr>\n",
              "    <tr>\n",
              "      <th>3</th>\n",
              "      <td>2020-07-17</td>\n",
              "      <td>4:00</td>\n",
              "      <td>Sumur Batu</td>\n",
              "      <td>0.0</td>\n",
              "      <td>Cerah</td>\n",
              "      <td>9805.946814</td>\n",
              "    </tr>\n",
              "    <tr>\n",
              "      <th>4</th>\n",
              "      <td>2020-07-17</td>\n",
              "      <td>6:00</td>\n",
              "      <td>Sumur Batu</td>\n",
              "      <td>0.0</td>\n",
              "      <td>Cerah</td>\n",
              "      <td>9805.946814</td>\n",
              "    </tr>\n",
              "    <tr>\n",
              "      <th>...</th>\n",
              "      <td>...</td>\n",
              "      <td>...</td>\n",
              "      <td>...</td>\n",
              "      <td>...</td>\n",
              "      <td>...</td>\n",
              "      <td>...</td>\n",
              "    </tr>\n",
              "    <tr>\n",
              "      <th>182880</th>\n",
              "      <td>2021-01-28</td>\n",
              "      <td>3:00</td>\n",
              "      <td>Cimanggu</td>\n",
              "      <td>0.0</td>\n",
              "      <td>Cerah</td>\n",
              "      <td>9805.946814</td>\n",
              "    </tr>\n",
              "    <tr>\n",
              "      <th>182881</th>\n",
              "      <td>2021-01-28</td>\n",
              "      <td>5:00</td>\n",
              "      <td>Cimanggu</td>\n",
              "      <td>0.0</td>\n",
              "      <td>Cerah</td>\n",
              "      <td>9805.946814</td>\n",
              "    </tr>\n",
              "    <tr>\n",
              "      <th>182882</th>\n",
              "      <td>2021-01-28</td>\n",
              "      <td>7:00</td>\n",
              "      <td>Cimanggu</td>\n",
              "      <td>0.0</td>\n",
              "      <td>Cerah</td>\n",
              "      <td>9805.946814</td>\n",
              "    </tr>\n",
              "    <tr>\n",
              "      <th>182883</th>\n",
              "      <td>2021-01-28</td>\n",
              "      <td>8:00</td>\n",
              "      <td>Cimanggu</td>\n",
              "      <td>12.0</td>\n",
              "      <td>Lebat</td>\n",
              "      <td>9805.946814</td>\n",
              "    </tr>\n",
              "    <tr>\n",
              "      <th>182884</th>\n",
              "      <td>2021-01-28</td>\n",
              "      <td>10:00</td>\n",
              "      <td>Cimanggu</td>\n",
              "      <td>0.0</td>\n",
              "      <td>Cerah</td>\n",
              "      <td>9805.946814</td>\n",
              "    </tr>\n",
              "  </tbody>\n",
              "</table>\n",
              "<p>182882 rows × 6 columns</p>\n",
              "</div>"
            ],
            "text/plain": [
              "             Date   Time    Location  Rainfall RainfallStatus   WaterLevel\n",
              "0      2020-07-15  14:00  Sumur Batu       0.0          Cerah  9805.946814\n",
              "1      2020-07-15  15:00  Sumur Batu       0.0          Cerah  9805.946814\n",
              "2      2020-07-16   7:00  Sumur Batu       0.0          Cerah  9805.946814\n",
              "3      2020-07-17   4:00  Sumur Batu       0.0          Cerah  9805.946814\n",
              "4      2020-07-17   6:00  Sumur Batu       0.0          Cerah  9805.946814\n",
              "...           ...    ...         ...       ...            ...          ...\n",
              "182880 2021-01-28   3:00    Cimanggu       0.0          Cerah  9805.946814\n",
              "182881 2021-01-28   5:00    Cimanggu       0.0          Cerah  9805.946814\n",
              "182882 2021-01-28   7:00    Cimanggu       0.0          Cerah  9805.946814\n",
              "182883 2021-01-28   8:00    Cimanggu      12.0          Lebat  9805.946814\n",
              "182884 2021-01-28  10:00    Cimanggu       0.0          Cerah  9805.946814\n",
              "\n",
              "[182882 rows x 6 columns]"
            ]
          },
          "metadata": {
            "tags": []
          },
          "execution_count": 55
        }
      ]
    },
    {
      "cell_type": "code",
      "metadata": {
        "colab": {
          "base_uri": "https://localhost:8080/",
          "height": 590
        },
        "id": "GnVj3PZ7xLr6",
        "outputId": "43306b1a-2b07-4c0b-950d-21cc807c8e01"
      },
      "source": [
        "# See if time is regularly updated\n",
        "\n",
        "import matplotlib.pyplot as plt\n",
        "plt.rcParams['figure.figsize'] = [20, 10]\n",
        "\n",
        "df_tmrain_tmwater[df_tmrain_tmwater[\"Location\"] == \"Sumur Batu\"].plot(\"Date\", \"Time\", kind=\"scatter\", s=1)"
      ],
      "execution_count": 56,
      "outputs": [
        {
          "output_type": "execute_result",
          "data": {
            "text/plain": [
              "<matplotlib.axes._subplots.AxesSubplot at 0x7f05844a9e90>"
            ]
          },
          "metadata": {
            "tags": []
          },
          "execution_count": 56
        },
        {
          "output_type": "display_data",
          "data": {
            "image/png": "[encoded data removed]",
            "text/plain": [
              "<Figure size 1440x720 with 1 Axes>"
            ]
          },
          "metadata": {
            "tags": [],
            "needs_background": "light"
          }
        }
      ]
    },
    {
      "cell_type": "markdown",
      "metadata": {
        "id": "6Icn7HdSy75o"
      },
      "source": [
        "There are many missing values! (Not regular)\n",
        "\n",
        "Let's just take by date and not by time"
      ]
    },
    {
      "cell_type": "code",
      "metadata": {
        "colab": {
          "base_uri": "https://localhost:8080/",
          "height": 402
        },
        "id": "gPj_IlOItTkK",
        "outputId": "30d6b578-6afc-4193-ac6b-90ae2e80c76e"
      },
      "source": [
        "df_tmrain_tmwater_days = df_tmrain_tmwater.sort_values(\"Rainfall\", ascending=False).groupby([\"Location\", \"Date\"]).head(1)\n",
        "df_tmrain_tmwater_days"
      ],
      "execution_count": 57,
      "outputs": [
        {
          "output_type": "execute_result",
          "data": {
            "text/html": [
              "<div>\n",
              "<style scoped>\n",
              "    .dataframe tbody tr th:only-of-type {\n",
              "        vertical-align: middle;\n",
              "    }\n",
              "\n",
              "    .dataframe tbody tr th {\n",
              "        vertical-align: top;\n",
              "    }\n",
              "\n",
              "    .dataframe thead th {\n",
              "        text-align: right;\n",
              "    }\n",
              "</style>\n",
              "<table border=\"1\" class=\"dataframe\">\n",
              "  <thead>\n",
              "    <tr style=\"text-align: right;\">\n",
              "      <th></th>\n",
              "      <th>Date</th>\n",
              "      <th>Time</th>\n",
              "      <th>Location</th>\n",
              "      <th>Rainfall</th>\n",
              "      <th>RainfallStatus</th>\n",
              "      <th>WaterLevel</th>\n",
              "    </tr>\n",
              "  </thead>\n",
              "  <tbody>\n",
              "    <tr>\n",
              "      <th>88413</th>\n",
              "      <td>2020-08-03</td>\n",
              "      <td>3:00</td>\n",
              "      <td>Kampus UI</td>\n",
              "      <td>340.0</td>\n",
              "      <td>Sangat Lebat</td>\n",
              "      <td>9805.946814</td>\n",
              "    </tr>\n",
              "    <tr>\n",
              "      <th>12135</th>\n",
              "      <td>2019-02-11</td>\n",
              "      <td>16:00</td>\n",
              "      <td>Cawang</td>\n",
              "      <td>275.5</td>\n",
              "      <td>Lebat</td>\n",
              "      <td>9805.946814</td>\n",
              "    </tr>\n",
              "    <tr>\n",
              "      <th>88435</th>\n",
              "      <td>2020-08-04</td>\n",
              "      <td>1:00</td>\n",
              "      <td>Kampus UI</td>\n",
              "      <td>216.5</td>\n",
              "      <td>Sangat Lebat</td>\n",
              "      <td>9805.946814</td>\n",
              "    </tr>\n",
              "    <tr>\n",
              "      <th>86852</th>\n",
              "      <td>2020-05-20</td>\n",
              "      <td>6:00</td>\n",
              "      <td>Kampus UI</td>\n",
              "      <td>214.5</td>\n",
              "      <td>Sangat Lebat</td>\n",
              "      <td>9805.946814</td>\n",
              "    </tr>\n",
              "    <tr>\n",
              "      <th>11722</th>\n",
              "      <td>2019-01-25</td>\n",
              "      <td>10:00</td>\n",
              "      <td>Cawang</td>\n",
              "      <td>213.5</td>\n",
              "      <td>Lebat</td>\n",
              "      <td>9805.946814</td>\n",
              "    </tr>\n",
              "    <tr>\n",
              "      <th>...</th>\n",
              "      <td>...</td>\n",
              "      <td>...</td>\n",
              "      <td>...</td>\n",
              "      <td>...</td>\n",
              "      <td>...</td>\n",
              "      <td>...</td>\n",
              "    </tr>\n",
              "    <tr>\n",
              "      <th>62148</th>\n",
              "      <td>2020-08-08</td>\n",
              "      <td>8:00</td>\n",
              "      <td>Kampung Kelapa</td>\n",
              "      <td>0.0</td>\n",
              "      <td>Cerah</td>\n",
              "      <td>9805.946814</td>\n",
              "    </tr>\n",
              "    <tr>\n",
              "      <th>62063</th>\n",
              "      <td>2020-08-04</td>\n",
              "      <td>19:00</td>\n",
              "      <td>Kampung Kelapa</td>\n",
              "      <td>0.0</td>\n",
              "      <td>Cerah</td>\n",
              "      <td>9805.946814</td>\n",
              "    </tr>\n",
              "    <tr>\n",
              "      <th>62005</th>\n",
              "      <td>2020-08-02</td>\n",
              "      <td>9:00</td>\n",
              "      <td>Kampung Kelapa</td>\n",
              "      <td>0.0</td>\n",
              "      <td>Cerah</td>\n",
              "      <td>9805.946814</td>\n",
              "    </tr>\n",
              "    <tr>\n",
              "      <th>62321</th>\n",
              "      <td>2020-08-15</td>\n",
              "      <td>23:00</td>\n",
              "      <td>Kampung Kelapa</td>\n",
              "      <td>0.0</td>\n",
              "      <td>Cerah</td>\n",
              "      <td>9805.946814</td>\n",
              "    </tr>\n",
              "    <tr>\n",
              "      <th>62192</th>\n",
              "      <td>2020-08-10</td>\n",
              "      <td>4:00</td>\n",
              "      <td>Kampung Kelapa</td>\n",
              "      <td>0.0</td>\n",
              "      <td>Cerah</td>\n",
              "      <td>9805.946814</td>\n",
              "    </tr>\n",
              "  </tbody>\n",
              "</table>\n",
              "<p>8276 rows × 6 columns</p>\n",
              "</div>"
            ],
            "text/plain": [
              "            Date   Time        Location  Rainfall RainfallStatus   WaterLevel\n",
              "88413 2020-08-03   3:00       Kampus UI     340.0   Sangat Lebat  9805.946814\n",
              "12135 2019-02-11  16:00          Cawang     275.5          Lebat  9805.946814\n",
              "88435 2020-08-04   1:00       Kampus UI     216.5   Sangat Lebat  9805.946814\n",
              "86852 2020-05-20   6:00       Kampus UI     214.5   Sangat Lebat  9805.946814\n",
              "11722 2019-01-25  10:00          Cawang     213.5          Lebat  9805.946814\n",
              "...          ...    ...             ...       ...            ...          ...\n",
              "62148 2020-08-08   8:00  Kampung Kelapa       0.0          Cerah  9805.946814\n",
              "62063 2020-08-04  19:00  Kampung Kelapa       0.0          Cerah  9805.946814\n",
              "62005 2020-08-02   9:00  Kampung Kelapa       0.0          Cerah  9805.946814\n",
              "62321 2020-08-15  23:00  Kampung Kelapa       0.0          Cerah  9805.946814\n",
              "62192 2020-08-10   4:00  Kampung Kelapa       0.0          Cerah  9805.946814\n",
              "\n",
              "[8276 rows x 6 columns]"
            ]
          },
          "metadata": {
            "tags": []
          },
          "execution_count": 57
        }
      ]
    },
    {
      "cell_type": "code",
      "metadata": {
        "colab": {
          "base_uri": "https://localhost:8080/",
          "height": 402
        },
        "id": "QsVkBraEmr7K",
        "outputId": "f63e0456-f885-4368-c4b4-ecc323693c14"
      },
      "source": [
        "# Asumsi Labeling\n",
        "df_tmrain_tmwater_days['Banjir'] = df_tmrain_tmwater_days.apply(lambda row: 1 if str(row['RainfallStatus']).lower() == \"lebat\" or str(row['RainfallStatus']).lower() == \"sangat lebat\" else 0, axis=1)\n",
        "df_tmrain_tmwater_days"
      ],
      "execution_count": 58,
      "outputs": [
        {
          "output_type": "execute_result",
          "data": {
            "text/html": [
              "<div>\n",
              "<style scoped>\n",
              "    .dataframe tbody tr th:only-of-type {\n",
              "        vertical-align: middle;\n",
              "    }\n",
              "\n",
              "    .dataframe tbody tr th {\n",
              "        vertical-align: top;\n",
              "    }\n",
              "\n",
              "    .dataframe thead th {\n",
              "        text-align: right;\n",
              "    }\n",
              "</style>\n",
              "<table border=\"1\" class=\"dataframe\">\n",
              "  <thead>\n",
              "    <tr style=\"text-align: right;\">\n",
              "      <th></th>\n",
              "      <th>Date</th>\n",
              "      <th>Time</th>\n",
              "      <th>Location</th>\n",
              "      <th>Rainfall</th>\n",
              "      <th>RainfallStatus</th>\n",
              "      <th>WaterLevel</th>\n",
              "      <th>Banjir</th>\n",
              "    </tr>\n",
              "  </thead>\n",
              "  <tbody>\n",
              "    <tr>\n",
              "      <th>88413</th>\n",
              "      <td>2020-08-03</td>\n",
              "      <td>3:00</td>\n",
              "      <td>Kampus UI</td>\n",
              "      <td>340.0</td>\n",
              "      <td>Sangat Lebat</td>\n",
              "      <td>9805.946814</td>\n",
              "      <td>1</td>\n",
              "    </tr>\n",
              "    <tr>\n",
              "      <th>12135</th>\n",
              "      <td>2019-02-11</td>\n",
              "      <td>16:00</td>\n",
              "      <td>Cawang</td>\n",
              "      <td>275.5</td>\n",
              "      <td>Lebat</td>\n",
              "      <td>9805.946814</td>\n",
              "      <td>1</td>\n",
              "    </tr>\n",
              "    <tr>\n",
              "      <th>88435</th>\n",
              "      <td>2020-08-04</td>\n",
              "      <td>1:00</td>\n",
              "      <td>Kampus UI</td>\n",
              "      <td>216.5</td>\n",
              "      <td>Sangat Lebat</td>\n",
              "      <td>9805.946814</td>\n",
              "      <td>1</td>\n",
              "    </tr>\n",
              "    <tr>\n",
              "      <th>86852</th>\n",
              "      <td>2020-05-20</td>\n",
              "      <td>6:00</td>\n",
              "      <td>Kampus UI</td>\n",
              "      <td>214.5</td>\n",
              "      <td>Sangat Lebat</td>\n",
              "      <td>9805.946814</td>\n",
              "      <td>1</td>\n",
              "    </tr>\n",
              "    <tr>\n",
              "      <th>11722</th>\n",
              "      <td>2019-01-25</td>\n",
              "      <td>10:00</td>\n",
              "      <td>Cawang</td>\n",
              "      <td>213.5</td>\n",
              "      <td>Lebat</td>\n",
              "      <td>9805.946814</td>\n",
              "      <td>1</td>\n",
              "    </tr>\n",
              "    <tr>\n",
              "      <th>...</th>\n",
              "      <td>...</td>\n",
              "      <td>...</td>\n",
              "      <td>...</td>\n",
              "      <td>...</td>\n",
              "      <td>...</td>\n",
              "      <td>...</td>\n",
              "      <td>...</td>\n",
              "    </tr>\n",
              "    <tr>\n",
              "      <th>62148</th>\n",
              "      <td>2020-08-08</td>\n",
              "      <td>8:00</td>\n",
              "      <td>Kampung Kelapa</td>\n",
              "      <td>0.0</td>\n",
              "      <td>Cerah</td>\n",
              "      <td>9805.946814</td>\n",
              "      <td>0</td>\n",
              "    </tr>\n",
              "    <tr>\n",
              "      <th>62063</th>\n",
              "      <td>2020-08-04</td>\n",
              "      <td>19:00</td>\n",
              "      <td>Kampung Kelapa</td>\n",
              "      <td>0.0</td>\n",
              "      <td>Cerah</td>\n",
              "      <td>9805.946814</td>\n",
              "      <td>0</td>\n",
              "    </tr>\n",
              "    <tr>\n",
              "      <th>62005</th>\n",
              "      <td>2020-08-02</td>\n",
              "      <td>9:00</td>\n",
              "      <td>Kampung Kelapa</td>\n",
              "      <td>0.0</td>\n",
              "      <td>Cerah</td>\n",
              "      <td>9805.946814</td>\n",
              "      <td>0</td>\n",
              "    </tr>\n",
              "    <tr>\n",
              "      <th>62321</th>\n",
              "      <td>2020-08-15</td>\n",
              "      <td>23:00</td>\n",
              "      <td>Kampung Kelapa</td>\n",
              "      <td>0.0</td>\n",
              "      <td>Cerah</td>\n",
              "      <td>9805.946814</td>\n",
              "      <td>0</td>\n",
              "    </tr>\n",
              "    <tr>\n",
              "      <th>62192</th>\n",
              "      <td>2020-08-10</td>\n",
              "      <td>4:00</td>\n",
              "      <td>Kampung Kelapa</td>\n",
              "      <td>0.0</td>\n",
              "      <td>Cerah</td>\n",
              "      <td>9805.946814</td>\n",
              "      <td>0</td>\n",
              "    </tr>\n",
              "  </tbody>\n",
              "</table>\n",
              "<p>8276 rows × 7 columns</p>\n",
              "</div>"
            ],
            "text/plain": [
              "            Date   Time        Location  ...  RainfallStatus   WaterLevel  Banjir\n",
              "88413 2020-08-03   3:00       Kampus UI  ...    Sangat Lebat  9805.946814       1\n",
              "12135 2019-02-11  16:00          Cawang  ...           Lebat  9805.946814       1\n",
              "88435 2020-08-04   1:00       Kampus UI  ...    Sangat Lebat  9805.946814       1\n",
              "86852 2020-05-20   6:00       Kampus UI  ...    Sangat Lebat  9805.946814       1\n",
              "11722 2019-01-25  10:00          Cawang  ...           Lebat  9805.946814       1\n",
              "...          ...    ...             ...  ...             ...          ...     ...\n",
              "62148 2020-08-08   8:00  Kampung Kelapa  ...           Cerah  9805.946814       0\n",
              "62063 2020-08-04  19:00  Kampung Kelapa  ...           Cerah  9805.946814       0\n",
              "62005 2020-08-02   9:00  Kampung Kelapa  ...           Cerah  9805.946814       0\n",
              "62321 2020-08-15  23:00  Kampung Kelapa  ...           Cerah  9805.946814       0\n",
              "62192 2020-08-10   4:00  Kampung Kelapa  ...           Cerah  9805.946814       0\n",
              "\n",
              "[8276 rows x 7 columns]"
            ]
          },
          "metadata": {
            "tags": []
          },
          "execution_count": 58
        }
      ]
    },
    {
      "cell_type": "code",
      "metadata": {
        "colab": {
          "base_uri": "https://localhost:8080/"
        },
        "id": "4DHBgYCw0Z1X",
        "outputId": "563610fd-a1fd-45e5-930b-2ba4c7729209"
      },
      "source": [
        "# Berapa banjir ya\n",
        "df_tmrain_tmwater_days[\"Banjir\"].sum()"
      ],
      "execution_count": 59,
      "outputs": [
        {
          "output_type": "execute_result",
          "data": {
            "text/plain": [
              "976"
            ]
          },
          "metadata": {
            "tags": []
          },
          "execution_count": 59
        }
      ]
    },
    {
      "cell_type": "code",
      "metadata": {
        "colab": {
          "base_uri": "https://localhost:8080/",
          "height": 613
        },
        "id": "JN_oLm7YaMns",
        "outputId": "50ea7c3a-3cab-403d-ce48-fc027ddc7e25"
      },
      "source": [
        "# Bagaimana korelasi WaterLevel, Rainfall, dan Banjir?\n",
        "import seaborn as sb\n",
        "sb.heatmap(df_tmrain_tmwater_days[[\"Rainfall\", \"WaterLevel\", \"Banjir\"]].corr(), cmap=\"Blues\", annot=True)"
      ],
      "execution_count": 60,
      "outputs": [
        {
          "output_type": "execute_result",
          "data": {
            "text/plain": [
              "<matplotlib.axes._subplots.AxesSubplot at 0x7f057b3e8790>"
            ]
          },
          "metadata": {
            "tags": []
          },
          "execution_count": 60
        },
        {
          "output_type": "display_data",
          "data": {
            "image/png": "[encoded data removed]",
            "text/plain": [
              "<Figure size 1440x720 with 2 Axes>"
            ]
          },
          "metadata": {
            "tags": [],
            "needs_background": "light"
          }
        }
      ]
    },
    {
      "cell_type": "code",
      "metadata": {
        "colab": {
          "base_uri": "https://localhost:8080/",
          "height": 479
        },
        "id": "BgeDusmnBmFZ",
        "outputId": "9071a39f-a12f-432d-8703-a29a50d397a3"
      },
      "source": [
        "ax1 = df_tmrain_tmwater_days[df_tmrain_tmwater_days['Banjir'] == 1].plot(kind='scatter', x='Rainfall', y='WaterLevel', color='blue', alpha=0.5, figsize=(10, 7), logx=True, logy=True)\n",
        "df_tmrain_tmwater_days[df_tmrain_tmwater_days['Banjir'] == 0].plot(kind='scatter', x='Rainfall', y='WaterLevel', color='magenta', alpha=0.5, figsize=(10 ,7), ax=ax1, logx=True, logy=True)\n",
        "plt.legend(labels=['Banjir', 'Tidak Banjir'])\n",
        "plt.title('Relationship between Rainfall and WaterLevel', size=24)\n",
        "plt.xlabel('Rainfall (mm)', size=18)\n",
        "plt.ylabel('Waterlevel (cm)', size=18);"
      ],
      "execution_count": 61,
      "outputs": [
        {
          "output_type": "display_data",
          "data": {
            "image/png": "[encoded data removed]",
            "text/plain": [
              "<Figure size 720x504 with 1 Axes>"
            ]
          },
          "metadata": {
            "tags": [],
            "needs_background": "light"
          }
        }
      ]
    },
    {
      "cell_type": "markdown",
      "metadata": {
        "id": "QTVSV6agppIi"
      },
      "source": [
        "Tidak terlalu bagus untuk WaterLevel vs Banjir (Mungkin karena data tidak lengkap)\n",
        "\n",
        "\n",
        "Karena tidak bagus korelasinya, maka digunakan satu kolom saja yakni \n",
        "\n",
        "X[Rainfall]\n",
        "\n",
        "Y[Banjir]\n",
        "\n"
      ]
    },
    {
      "cell_type": "markdown",
      "metadata": {
        "id": "7tCjpqLT7RlD"
      },
      "source": [
        "## Create Model"
      ]
    },
    {
      "cell_type": "markdown",
      "metadata": {
        "id": "Sd7hcz_xHTUZ"
      },
      "source": [
        "### Models for detecting banjir or tidak"
      ]
    },
    {
      "cell_type": "code",
      "metadata": {
        "id": "pucZlCbrK79T"
      },
      "source": [
        "import pickle\n",
        "class Transformer:\n",
        "  \"\"\"Convert non numeric categorical data to numeric value\n",
        "  \"\"\"\n",
        "  def __init__(self):\n",
        "    self.mapping_keys = {}\n",
        "\n",
        "  def fit_transform(self, df):\n",
        "    columns = df.columns.values\n",
        "    self.mapping_keys = {}\n",
        "\n",
        "    for column in columns:\n",
        "      text_digit_vals = {}\n",
        "      if df[column].dtype != np.int64 and df[column].dtype != np.float64:\n",
        "        column_contents = df[column].values.tolist()\n",
        "        unique_elements = sorted(set(column_contents), key=lambda x: str(x))\n",
        "        x = 0\n",
        "        for unique in unique_elements:\n",
        "          if unique not in text_digit_vals:\n",
        "            text_digit_vals[unique] = x\n",
        "            x += 1\n",
        "        df[column] = df.apply(lambda row: text_digit_vals[row[column]], axis=1)\n",
        "        self.mapping_keys[column] = text_digit_vals\n",
        "\n",
        "      return df\n",
        "\n",
        "  def transform(self, df):\n",
        "    columns = df.columns.values\n",
        "    for column in columns:\n",
        "      if df[column].dtype != np.int64 and df[column].dtype != np.float64:\n",
        "        df[column] = df.apply(lambda row: self.mapping_keys[column][row[column]], axis=1)\n",
        "    return df\n",
        "  \n",
        "  def save_mapping(self, location):\n",
        "    pickle.dump(self.mapping_keys, open(location, \"wb\"))"
      ],
      "execution_count": 62,
      "outputs": []
    },
    {
      "cell_type": "code",
      "metadata": {
        "colab": {
          "base_uri": "https://localhost:8080/"
        },
        "id": "2U_RSihsMnnv",
        "outputId": "0ea3c4c7-a701-4782-e9ff-4d0b696d3fba"
      },
      "source": [
        "# Convert categorical data to mapping numbers\n",
        "\n",
        "transformer = Transformer()\n",
        "df_banjir = transformer.fit_transform(df_tmrain_tmwater_days[[\"Location\", \"Rainfall\", \"Banjir\"]])"
      ],
      "execution_count": 63,
      "outputs": [
        {
          "output_type": "stream",
          "text": [
            "/usr/local/lib/python3.7/dist-packages/ipykernel_launcher.py:22: SettingWithCopyWarning: \n",
            "A value is trying to be set on a copy of a slice from a DataFrame.\n",
            "Try using .loc[row_indexer,col_indexer] = value instead\n",
            "\n",
            "See the caveats in the documentation: https://pandas.pydata.org/pandas-docs/stable/user_guide/indexing.html#returning-a-view-versus-a-copy\n"
          ],
          "name": "stderr"
        }
      ]
    },
    {
      "cell_type": "code",
      "metadata": {
        "colab": {
          "base_uri": "https://localhost:8080/"
        },
        "id": "Km3MuUD5HaAN",
        "outputId": "2f4706e3-9fab-45ab-8b7d-25e284e2f1d0"
      },
      "source": [
        "# Training\n",
        "import numpy as np\n",
        "from sklearn import preprocessing, model_selection, neighbors # cross_validation has been deprecated so use model_selection instead\n",
        "import pandas as pd\n",
        "\n",
        "X = np.array(df_banjir.drop(['Banjir'], 1))\n",
        "y = np.array(df_banjir['Banjir'])\n",
        "\n",
        "X_train, X_test, y_train, y_test = model_selection.train_test_split(X,y,test_size=0.2)\n",
        "\n",
        "clf = neighbors.KNeighborsClassifier()\n",
        "\n",
        "clf.fit(X_train, y_train)\n",
        "\n",
        "accuracy = clf.score(X_test, y_test)\n",
        "print('Accuracy=', accuracy)"
      ],
      "execution_count": 64,
      "outputs": [
        {
          "output_type": "stream",
          "text": [
            "Accuracy= 0.9969806763285024\n"
          ],
          "name": "stdout"
        }
      ]
    },
    {
      "cell_type": "code",
      "metadata": {
        "colab": {
          "base_uri": "https://localhost:8080/"
        },
        "id": "ux0jr9L4OH25",
        "outputId": "03a48440-15de-4fcd-8e2a-a730c8cad3af"
      },
      "source": [
        "# Predicting\n",
        "\n",
        "def predict_banjir(input_value):\n",
        "  df_banjir_to_predict = pd.DataFrame(input_value, columns=[\"Location\", \"Rainfall\"])\n",
        "  df_banjir_to_predict = transformer.transform(df_banjir_to_predict)\n",
        "  print('Input=',input_value)\n",
        "  predictions = clf.predict(df_banjir_to_predict)\n",
        "  print('Predictions', predictions)\n",
        "  return predictions\n",
        "\n",
        "predict_banjir([[\"Cawang\", 213.5],[\"Kampung Kelapa\", 0],[\"Cawang\", 213.5]])"
      ],
      "execution_count": 65,
      "outputs": [
        {
          "output_type": "stream",
          "text": [
            "Input= [['Cawang', 213.5], ['Kampung Kelapa', 0], ['Cawang', 213.5]]\n",
            "Predictions [1 0 1]\n"
          ],
          "name": "stdout"
        },
        {
          "output_type": "execute_result",
          "data": {
            "text/plain": [
              "array([1, 0, 1])"
            ]
          },
          "metadata": {
            "tags": []
          },
          "execution_count": 65
        }
      ]
    },
    {
      "cell_type": "code",
      "metadata": {
        "id": "kho_DsjFF04R"
      },
      "source": [
        ""
      ],
      "execution_count": 65,
      "outputs": []
    },
    {
      "cell_type": "markdown",
      "metadata": {
        "id": "gvtG1aIXrHOe"
      },
      "source": [
        "## Rainfall Forecasting Model"
      ]
    },
    {
      "cell_type": "code",
      "metadata": {
        "colab": {
          "base_uri": "https://localhost:8080/"
        },
        "id": "rCpOcnUfvbMy",
        "outputId": "aaf919b5-229b-41bb-9b13-40550311bc5c"
      },
      "source": [
        "def get_rainfall_by_location(location):\n",
        "  return df_tmrain_tmwater_days[[\"Date\", \"Location\", \"Rainfall\"]][df_tmrain_tmwater_days[\"Location\"] == location].sort_values(\"Date\")\n",
        "\n",
        "df_tmrain_tmwater_days[\"Location\"].unique()"
      ],
      "execution_count": 82,
      "outputs": [
        {
          "output_type": "execute_result",
          "data": {
            "text/plain": [
              "array(['Kampus UI', 'Cawang', 'Kemensos', 'Cengkareng Drain', 'Manggarai',\n",
              "       'Bojong Murni', 'Gunung Mas', 'Situ Parigi', 'Gadog', 'Cimanggu',\n",
              "       'Cibinong', 'Bendungan Gintung', 'Pasir Jaya', 'Villa Pamulang',\n",
              "       'Sumur Batu', 'Kampung Kelapa', 'Jeruk Purut', 'Lengkong Barang',\n",
              "       'Jatijajar'], dtype=object)"
            ]
          },
          "metadata": {
            "tags": []
          },
          "execution_count": 82
        }
      ]
    },
    {
      "cell_type": "code",
      "metadata": {
        "colab": {
          "base_uri": "https://localhost:8080/",
          "height": 402
        },
        "id": "a_NAYBq76I2E",
        "outputId": "f0af4390-c0e2-4145-cc49-6e85a3734c6c"
      },
      "source": [
        "# Create feature using sliding window\n",
        "location = \"Kampung Kelapa\"\n",
        "df = get_rainfall_by_location(location)\n",
        "df"
      ],
      "execution_count": 155,
      "outputs": [
        {
          "output_type": "execute_result",
          "data": {
            "text/html": [
              "<div>\n",
              "<style scoped>\n",
              "    .dataframe tbody tr th:only-of-type {\n",
              "        vertical-align: middle;\n",
              "    }\n",
              "\n",
              "    .dataframe tbody tr th {\n",
              "        vertical-align: top;\n",
              "    }\n",
              "\n",
              "    .dataframe thead th {\n",
              "        text-align: right;\n",
              "    }\n",
              "</style>\n",
              "<table border=\"1\" class=\"dataframe\">\n",
              "  <thead>\n",
              "    <tr style=\"text-align: right;\">\n",
              "      <th></th>\n",
              "      <th>Date</th>\n",
              "      <th>Location</th>\n",
              "      <th>Rainfall</th>\n",
              "    </tr>\n",
              "  </thead>\n",
              "  <tbody>\n",
              "    <tr>\n",
              "      <th>51860</th>\n",
              "      <td>2018-06-04</td>\n",
              "      <td>Kampung Kelapa</td>\n",
              "      <td>0.0</td>\n",
              "    </tr>\n",
              "    <tr>\n",
              "      <th>51864</th>\n",
              "      <td>2018-07-20</td>\n",
              "      <td>Kampung Kelapa</td>\n",
              "      <td>0.0</td>\n",
              "    </tr>\n",
              "    <tr>\n",
              "      <th>51876</th>\n",
              "      <td>2018-07-21</td>\n",
              "      <td>Kampung Kelapa</td>\n",
              "      <td>0.0</td>\n",
              "    </tr>\n",
              "    <tr>\n",
              "      <th>51896</th>\n",
              "      <td>2018-07-22</td>\n",
              "      <td>Kampung Kelapa</td>\n",
              "      <td>52.0</td>\n",
              "    </tr>\n",
              "    <tr>\n",
              "      <th>51909</th>\n",
              "      <td>2018-07-23</td>\n",
              "      <td>Kampung Kelapa</td>\n",
              "      <td>0.0</td>\n",
              "    </tr>\n",
              "    <tr>\n",
              "      <th>...</th>\n",
              "      <td>...</td>\n",
              "      <td>...</td>\n",
              "      <td>...</td>\n",
              "    </tr>\n",
              "    <tr>\n",
              "      <th>66069</th>\n",
              "      <td>2021-01-23</td>\n",
              "      <td>Kampung Kelapa</td>\n",
              "      <td>16.5</td>\n",
              "    </tr>\n",
              "    <tr>\n",
              "      <th>66081</th>\n",
              "      <td>2021-01-24</td>\n",
              "      <td>Kampung Kelapa</td>\n",
              "      <td>0.0</td>\n",
              "    </tr>\n",
              "    <tr>\n",
              "      <th>66087</th>\n",
              "      <td>2021-01-25</td>\n",
              "      <td>Kampung Kelapa</td>\n",
              "      <td>4.0</td>\n",
              "    </tr>\n",
              "    <tr>\n",
              "      <th>66112</th>\n",
              "      <td>2021-01-26</td>\n",
              "      <td>Kampung Kelapa</td>\n",
              "      <td>4.0</td>\n",
              "    </tr>\n",
              "    <tr>\n",
              "      <th>66121</th>\n",
              "      <td>2021-01-27</td>\n",
              "      <td>Kampung Kelapa</td>\n",
              "      <td>0.0</td>\n",
              "    </tr>\n",
              "  </tbody>\n",
              "</table>\n",
              "<p>639 rows × 3 columns</p>\n",
              "</div>"
            ],
            "text/plain": [
              "            Date        Location  Rainfall\n",
              "51860 2018-06-04  Kampung Kelapa       0.0\n",
              "51864 2018-07-20  Kampung Kelapa       0.0\n",
              "51876 2018-07-21  Kampung Kelapa       0.0\n",
              "51896 2018-07-22  Kampung Kelapa      52.0\n",
              "51909 2018-07-23  Kampung Kelapa       0.0\n",
              "...          ...             ...       ...\n",
              "66069 2021-01-23  Kampung Kelapa      16.5\n",
              "66081 2021-01-24  Kampung Kelapa       0.0\n",
              "66087 2021-01-25  Kampung Kelapa       4.0\n",
              "66112 2021-01-26  Kampung Kelapa       4.0\n",
              "66121 2021-01-27  Kampung Kelapa       0.0\n",
              "\n",
              "[639 rows x 3 columns]"
            ]
          },
          "metadata": {
            "tags": []
          },
          "execution_count": 155
        }
      ]
    },
    {
      "cell_type": "code",
      "metadata": {
        "colab": {
          "base_uri": "https://localhost:8080/",
          "height": 511
        },
        "id": "H6em9YU26cqy",
        "outputId": "f05547df-63aa-4e78-dee9-07fbc8e51b35"
      },
      "source": [
        "# Plot data\n",
        "# plotting the data\n",
        "plt.figure(figsize=(16, 8))\n",
        "plt.title('Historical Rainfall data from %s'%location)\n",
        "plt.plot(df[\"Date\"],df['Rainfall'], color='red')\n",
        "plt.xlabel('Date', fontsize=18)\n",
        "plt.ylabel('Rainfall (mm)', fontsize=18)\n",
        "plt.show()"
      ],
      "execution_count": 156,
      "outputs": [
        {
          "output_type": "display_data",
          "data": {
            "image/png": "[encoded data removed]",
            "text/plain": [
              "<Figure size 1152x576 with 1 Axes>"
            ]
          },
          "metadata": {
            "tags": []
          }
        }
      ]
    },
    {
      "cell_type": "code",
      "metadata": {
        "colab": {
          "base_uri": "https://localhost:8080/"
        },
        "id": "MzvCd5o265YN",
        "outputId": "785e6802-15fd-4a37-cbef-ee9cce3bb3f9"
      },
      "source": [
        "# create new data frame with only 'Rainfall' column\n",
        "data = df[['Rainfall']]\n",
        "dataset = data.values # convert the data frame to numpy array\n",
        "trainning_data_len = math.ceil(len(dataset)*.8) # number of rows to train model\n",
        "trainning_data_len"
      ],
      "execution_count": 157,
      "outputs": [
        {
          "output_type": "execute_result",
          "data": {
            "text/plain": [
              "512"
            ]
          },
          "metadata": {
            "tags": []
          },
          "execution_count": 157
        }
      ]
    },
    {
      "cell_type": "code",
      "metadata": {
        "colab": {
          "base_uri": "https://localhost:8080/"
        },
        "id": "8XWORpdV7rUa",
        "outputId": "e4e5005d-8665-4137-ff95-e8a498224e8c"
      },
      "source": [
        "train_data = dataset[0:trainning_data_len, :]\n",
        "# Split the data into x_train, y_train datasets\n",
        "x_train = []\n",
        "y_train = []\n",
        "\n",
        "window = 30 # can predict 30 days ahead\n",
        "\n",
        "for i in range(window, len(train_data)):\n",
        "    x_train.append(train_data[i-window:i, 0])\n",
        "    y_train.append(train_data[i, 0])\n",
        "    if i<=window:\n",
        "        print(x_train)\n",
        "        print(y_train)\n",
        "        print()"
      ],
      "execution_count": 158,
      "outputs": [
        {
          "output_type": "stream",
          "text": [
            "[array([ 0. ,  0. ,  0. , 52. ,  0. ,  0. ,  0. ,  0. ,  0. ,  0. ,  0. ,\n",
            "        0. ,  2.5,  0. ,  0. ,  0. ,  0. ,  0. ,  0. ,  0. ,  0. ,  4.5,\n",
            "       28.5,  0. ,  0. ,  0. ,  0. ,  0. ,  0. ,  0. ])]\n",
            "[0.0]\n",
            "\n"
          ],
          "name": "stdout"
        }
      ]
    },
    {
      "cell_type": "code",
      "metadata": {
        "id": "wzOLIEQc78DQ"
      },
      "source": [
        "x_train, y_train = np.array(x_train), np.array(y_train)"
      ],
      "execution_count": 159,
      "outputs": []
    },
    {
      "cell_type": "code",
      "metadata": {
        "colab": {
          "base_uri": "https://localhost:8080/"
        },
        "id": "s9p60bX68WPc",
        "outputId": "5ac1fbb7-6976-421b-a3ca-9878a974f98e"
      },
      "source": [
        "from sklearn.linear_model import LinearRegression\n",
        "clf = LinearRegression(n_jobs=-1)\n",
        "clf.fit(x_train, y_train)"
      ],
      "execution_count": 160,
      "outputs": [
        {
          "output_type": "execute_result",
          "data": {
            "text/plain": [
              "LinearRegression(copy_X=True, fit_intercept=True, n_jobs=-1, normalize=False)"
            ]
          },
          "metadata": {
            "tags": []
          },
          "execution_count": 160
        }
      ]
    },
    {
      "cell_type": "code",
      "metadata": {
        "id": "s_DE0zeb87PA"
      },
      "source": [
        "test_data = dataset[trainning_data_len-window:, :]\n",
        "# Create the data sets x_test and y_test\n",
        "x_test = []\n",
        "y_test = dataset[trainning_data_len:, :]\n",
        "for i in range(window, len(test_data)):\n",
        "    x_test.append(test_data[i-window:i, 0])\n",
        "\n",
        "# convert the data  to numpy array\n",
        "x_test = np.array(x_test)\n",
        "\n",
        "forecast_set = clf.predict(x_test)"
      ],
      "execution_count": 161,
      "outputs": []
    },
    {
      "cell_type": "code",
      "metadata": {
        "colab": {
          "base_uri": "https://localhost:8080/"
        },
        "id": "cZN0odNa9mqD",
        "outputId": "c2b8950e-c747-41da-9f20-7257c287162c"
      },
      "source": [
        "rmse = np.sqrt(np.mean(forecast_set - y_test)**2)\n",
        "rmse"
      ],
      "execution_count": 162,
      "outputs": [
        {
          "output_type": "execute_result",
          "data": {
            "text/plain": [
              "0.8829854367071062"
            ]
          },
          "metadata": {
            "tags": []
          },
          "execution_count": 162
        }
      ]
    },
    {
      "cell_type": "code",
      "metadata": {
        "colab": {
          "base_uri": "https://localhost:8080/",
          "height": 862
        },
        "id": "Kz0e4sM69lDG",
        "outputId": "288067d4-642c-4d59-a0c4-55ce29ea16c3"
      },
      "source": [
        "# plot the data\n",
        "train = data[:trainning_data_len]\n",
        "valid = data[trainning_data_len:]\n",
        "valid['Predictions'] = forecast_set\n",
        "\n",
        "# visalization of the data\n",
        "plt.figure(figsize=(16,8))\n",
        "plt.title('Model')\n",
        "plt.xlabel('Date', fontsize=18)\n",
        "plt.ylabel('Rainfall', fontsize=18)\n",
        "# plt.plot(train['Rainfall'], linewidth=3.5)\n",
        "plt.plot(valid[['Rainfall', 'Predictions']], linewidth=3.5)\n",
        "plt.legend(['Valid','Predictions'], loc='upper_center')\n",
        "plt.show()"
      ],
      "execution_count": 163,
      "outputs": [
        {
          "output_type": "stream",
          "text": [
            "/usr/local/lib/python3.7/dist-packages/ipykernel_launcher.py:4: SettingWithCopyWarning: \n",
            "A value is trying to be set on a copy of a slice from a DataFrame.\n",
            "Try using .loc[row_indexer,col_indexer] = value instead\n",
            "\n",
            "See the caveats in the documentation: https://pandas.pydata.org/pandas-docs/stable/user_guide/indexing.html#returning-a-view-versus-a-copy\n",
            "  after removing the cwd from sys.path.\n",
            "/usr/local/lib/python3.7/dist-packages/ipykernel_launcher.py:13: MatplotlibDeprecationWarning: Unrecognized location 'upper_center'. Falling back on 'best'; valid locations are\n",
            "\tbest\n",
            "\tupper right\n",
            "\tupper left\n",
            "\tlower left\n",
            "\tlower right\n",
            "\tright\n",
            "\tcenter left\n",
            "\tcenter right\n",
            "\tlower center\n",
            "\tupper center\n",
            "\tcenter\n",
            "This will raise an exception in 3.3.\n",
            "  del sys.path[0]\n"
          ],
          "name": "stderr"
        },
        {
          "output_type": "display_data",
          "data": {
            "image/png": "[encoded data removed]",
            "text/plain": [
              "<Figure size 1152x576 with 1 Axes>"
            ]
          },
          "metadata": {
            "tags": []
          }
        }
      ]
    },
    {
      "cell_type": "code",
      "metadata": {
        "id": "RRu_9iOiBrQ4"
      },
      "source": [
        "import pickle\n",
        "pickle.dump(clf, open(\"mreg-predict-banjir-%s.pkl\"%location, \"wb\"))\n",
        "mcls = pickle.load( open(\"mreg-predict-banjir-%s.pkl\"%location, \"rb\" ))\n",
        "mcls.predict(x_test)"
      ],
      "execution_count": 168,
      "outputs": []
    }
  ]
}